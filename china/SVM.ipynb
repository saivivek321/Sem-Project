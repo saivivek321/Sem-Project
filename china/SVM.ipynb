{
  "nbformat": 4,
  "nbformat_minor": 0,
  "metadata": {
    "colab": {
      "provenance": []
    },
    "kernelspec": {
      "name": "python3",
      "display_name": "Python 3"
    },
    "language_info": {
      "name": "python"
    }
  },
  "cells": [
    {
      "cell_type": "code",
      "execution_count": 97,
      "metadata": {
        "id": "Cjqf1H36M740"
      },
      "outputs": [],
      "source": [
        "import numpy as np\n",
        "import matplotlib.pyplot as plt\n",
        "import pandas as pd"
      ]
    },
    {
      "cell_type": "code",
      "source": [
        "data = pd.read_csv('china.csv')\n",
        "del data['id']\n",
        "X=data.iloc[:,:-1] #Independent Variable\n",
        "Y=data.iloc[:,-1]   #Dependent Variable\n",
        "from sklearn.preprocessing import StandardScaler\n",
        "scaler = StandardScaler()\n",
        "X = scaler.fit_transform(X)\n",
        "Y.head(5)"
      ],
      "metadata": {
        "colab": {
          "base_uri": "https://localhost:8080/"
        },
        "id": "SbSzK-eTM_45",
        "outputId": "54ac317d-59f9-4847-a331-e3d0b3fb6e3e"
      },
      "execution_count": 98,
      "outputs": [
        {
          "output_type": "execute_result",
          "data": {
            "text/plain": [
              "0    7490\n",
              "1    4150\n",
              "2     668\n",
              "3    3238\n",
              "4    2994\n",
              "Name: Effort, dtype: int64"
            ]
          },
          "metadata": {},
          "execution_count": 98
        }
      ]
    },
    {
      "cell_type": "code",
      "source": [
        "from sklearn.model_selection import train_test_split as split_data\n",
        "X_train, X_test, Y_train, Y_test = split_data(X, Y , test_size = 0.2 , shuffle=True)"
      ],
      "metadata": {
        "id": "VU4sL-z-NH7m"
      },
      "execution_count": 99,
      "outputs": []
    },
    {
      "cell_type": "code",
      "source": [
        "# import SVC classifier\n",
        "from sklearn.svm import SVR\n",
        "\n",
        "# import metrics to compute accuracy\n",
        "from sklearn.metrics import accuracy_score\n",
        "\n",
        "# instantiate classifier with default hyperparameters\n",
        "svr=SVR() \n",
        "\n",
        "# fit classifier to training set\n",
        "svr.fit(X_train,Y_train)\n"
      ],
      "metadata": {
        "colab": {
          "base_uri": "https://localhost:8080/"
        },
        "id": "TcSqpwZbNYYD",
        "outputId": "4da67340-f1fa-40b7-d389-773a9cb861d3"
      },
      "execution_count": 100,
      "outputs": [
        {
          "output_type": "execute_result",
          "data": {
            "text/plain": [
              "SVR()"
            ]
          },
          "metadata": {},
          "execution_count": 100
        }
      ]
    },
    {
      "cell_type": "code",
      "source": [
        "Y_pred=svr.predict(X_test)\n",
        "print(Y_test)\n",
        "print(\"-----------------------------\")\n",
        "print(Y_pred)"
      ],
      "metadata": {
        "colab": {
          "base_uri": "https://localhost:8080/"
        },
        "id": "MO5m6PjbNZr6",
        "outputId": "805a5d9e-fc80-4f37-ed4b-5e86d8f4f5a2"
      },
      "execution_count": 101,
      "outputs": [
        {
          "output_type": "stream",
          "name": "stdout",
          "text": [
            "357     454\n",
            "378    4947\n",
            "65     2040\n",
            "358    4086\n",
            "12     2640\n",
            "       ... \n",
            "379    2019\n",
            "383     701\n",
            "257    4945\n",
            "3      3238\n",
            "488     500\n",
            "Name: Effort, Length: 100, dtype: int64\n",
            "-----------------------------\n",
            "[1768.92363892 1856.15296768 1792.08733461 1819.68811411 1799.88882276\n",
            " 1764.43614157 1820.77192966 1785.26495546 1768.1172513  1775.29291985\n",
            " 1772.07924436 1783.76987424 1797.07260894 1776.47063177 1802.28537204\n",
            " 1834.29672569 1784.89186199 1775.57288606 1842.11727755 1768.62532789\n",
            " 1767.87035008 1787.65636593 1773.29712624 1833.00941505 1788.15907491\n",
            " 1837.33070453 1848.64340492 1810.4768753  1821.40658241 1763.6793999\n",
            " 1810.26757801 1776.52853764 1770.07439706 1774.69776241 1786.69006944\n",
            " 1783.85135777 1836.60571888 1773.76082655 1847.36465683 1828.55424556\n",
            " 1810.71271093 1851.53531815 1769.83300557 1851.45841824 1763.06713158\n",
            " 1828.10959268 1772.88988347 1832.45175019 1765.93779351 1814.81891229\n",
            " 1816.34369864 1786.11991525 1832.33016159 1762.08536222 1772.42089193\n",
            " 1809.74448571 1807.3631713  1810.31290966 1791.70280636 1827.40462586\n",
            " 1776.13293897 1851.39949732 1829.15819067 1766.79695991 1806.22207588\n",
            " 1834.14917613 1769.63349473 1830.16846005 1808.05282636 1824.22359657\n",
            " 1836.83629148 1769.64612616 1786.67979914 1776.85452427 1773.99571421\n",
            " 1847.47129752 1837.29029646 1837.4847621  1776.1668145  1834.75188236\n",
            " 1818.50859797 1787.23375729 1808.76358135 1833.21727857 1805.46303172\n",
            " 1834.59852719 1822.97332511 1823.86002335 1818.62762437 1830.97014779\n",
            " 1789.8790451  1788.23604249 1839.8669277  1775.25237412 1798.3197642\n",
            " 1799.38874836 1768.88805148 1834.84603807 1794.66064178 1775.68122426]\n"
          ]
        }
      ]
    },
    {
      "cell_type": "code",
      "source": [
        "# Predict and evaluate Accuracy of model\n",
        "# Y_test = np.array(Y_test)\n",
        "# type(Y_test)\n",
        "# type(Y_pred)\n",
        "\n",
        "# def mae(y_true, predictions):\n",
        "#     y_true, predictions = np.array(y_true), np.array(predictions)\n",
        "#     return np.mean(np.abs(y_true - predictions))\n",
        "\n",
        "# print(mae(Y_test, Y_pred))\n",
        "\n",
        "import math\n",
        "error = (np.subtract(Y_test,Y_pred)/np.maximum(np.absolute(Y_test),np.absolute(Y_pred))).mean()\n",
        "# error = MAE(y_test, y_pred)\n",
        "\n",
        "print(f'MAE error is {error}')\n",
        "MSE = np.square(np.subtract(Y_test,Y_pred)/np.maximum(np.absolute(Y_test),np.absolute(Y_pred))).mean() \n",
        "# print(MSE)\n",
        "RMSE = math.sqrt(MSE)\n",
        "print(\"Root mean Sqaured Error\",RMSE)\n"
      ],
      "metadata": {
        "colab": {
          "base_uri": "https://localhost:8080/"
        },
        "id": "jWzhrC4oNblL",
        "outputId": "2b926f25-7f6a-4716-bd58-03c8fc8370c6"
      },
      "execution_count": 106,
      "outputs": [
        {
          "output_type": "stream",
          "name": "stdout",
          "text": [
            "MAE error is 0.1237288090339000226\n",
            "Root mean Sqaured Error 0.6330975870946949\n"
          ]
        }
      ]
    },
    {
      "cell_type": "code",
      "source": [],
      "metadata": {
        "id": "OnTug57FNdKP"
      },
      "execution_count": 102,
      "outputs": []
    }
  ]
}