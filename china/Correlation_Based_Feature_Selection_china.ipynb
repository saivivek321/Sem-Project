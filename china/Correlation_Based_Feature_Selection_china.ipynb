{
  "nbformat": 4,
  "nbformat_minor": 0,
  "metadata": {
    "colab": {
      "provenance": []
    },
    "kernelspec": {
      "name": "python3",
      "display_name": "Python 3"
    },
    "language_info": {
      "name": "python"
    }
  },
  "cells": [
    {
      "cell_type": "code",
      "execution_count": 33,
      "metadata": {
        "id": "V6WUnX0ihZDz"
      },
      "outputs": [],
      "source": [
        "# Import Dependencies\n",
        "import numpy as np\n",
        "import pandas as pd\n",
        "import seaborn as sns\n",
        "import matplotlib.pyplot as plt\n",
        "from sklearn.model_selection import train_test_split\n",
        "%matplotlib inline\n",
        "from sklearn.linear_model import LinearRegression\n",
        "from sklearn.model_selection import train_test_split as split_data\n",
        "import math\n"
      ]
    },
    {
      "cell_type": "code",
      "source": [
        "# Load Dataset\n",
        "df = pd.read_csv('china.csv')\n",
        "df.shape"
      ],
      "metadata": {
        "colab": {
          "base_uri": "https://localhost:8080/"
        },
        "id": "YrbAFyjchpLE",
        "outputId": "a723e9b1-66ce-4545-dcda-72ad5f2406c4"
      },
      "execution_count": 34,
      "outputs": [
        {
          "output_type": "execute_result",
          "data": {
            "text/plain": [
              "(499, 20)"
            ]
          },
          "metadata": {},
          "execution_count": 34
        }
      ]
    },
    {
      "cell_type": "code",
      "source": [
        "df.head()"
      ],
      "metadata": {
        "colab": {
          "base_uri": "https://localhost:8080/",
          "height": 270
        },
        "id": "DWtY7i2XiDwh",
        "outputId": "83740689-2f69-4ef5-a53a-02bc940465ae"
      },
      "execution_count": 35,
      "outputs": [
        {
          "output_type": "execute_result",
          "data": {
            "text/plain": [
              "   id  ID   AFP  Input  Output  Enquiry  File  Interface  Added  Changed  \\\n",
              "0   1   1  1587    774     260      340   128          0   1502        0   \n",
              "1   2   2   260      9       4        3   193         41     51      138   \n",
              "2   3   3   152     25      33       28    42         35    163        0   \n",
              "3   4   4   252    151      28        8    39          0     69      153   \n",
              "4   5   5   292     93       0      194    20          0      0      307   \n",
              "\n",
              "   Deleted  PDR_AFP  PDR_UFP  NPDR_AFP  NPDU_UFP  Resource  Dev.Type  \\\n",
              "0        0      4.7      5.0       4.7       5.0         4         0   \n",
              "1       61     16.0     16.6      16.0      16.6         2         0   \n",
              "2        0      4.4      4.1       4.4       4.1         1         0   \n",
              "3        4     12.8     14.3      15.5      17.3         1         0   \n",
              "4        0     10.3      9.8      12.4      11.7         1         0   \n",
              "\n",
              "   Duration  N_effort  Effort  \n",
              "0       4.0      7490    7490  \n",
              "1      17.0      4150    4150  \n",
              "2       9.0       668     668  \n",
              "3       4.0      3901    3238  \n",
              "4      13.0      3607    2994  "
            ],
            "text/html": [
              "\n",
              "  <div id=\"df-72030c86-d205-4490-896c-5dea2e970f5b\">\n",
              "    <div class=\"colab-df-container\">\n",
              "      <div>\n",
              "<style scoped>\n",
              "    .dataframe tbody tr th:only-of-type {\n",
              "        vertical-align: middle;\n",
              "    }\n",
              "\n",
              "    .dataframe tbody tr th {\n",
              "        vertical-align: top;\n",
              "    }\n",
              "\n",
              "    .dataframe thead th {\n",
              "        text-align: right;\n",
              "    }\n",
              "</style>\n",
              "<table border=\"1\" class=\"dataframe\">\n",
              "  <thead>\n",
              "    <tr style=\"text-align: right;\">\n",
              "      <th></th>\n",
              "      <th>id</th>\n",
              "      <th>ID</th>\n",
              "      <th>AFP</th>\n",
              "      <th>Input</th>\n",
              "      <th>Output</th>\n",
              "      <th>Enquiry</th>\n",
              "      <th>File</th>\n",
              "      <th>Interface</th>\n",
              "      <th>Added</th>\n",
              "      <th>Changed</th>\n",
              "      <th>Deleted</th>\n",
              "      <th>PDR_AFP</th>\n",
              "      <th>PDR_UFP</th>\n",
              "      <th>NPDR_AFP</th>\n",
              "      <th>NPDU_UFP</th>\n",
              "      <th>Resource</th>\n",
              "      <th>Dev.Type</th>\n",
              "      <th>Duration</th>\n",
              "      <th>N_effort</th>\n",
              "      <th>Effort</th>\n",
              "    </tr>\n",
              "  </thead>\n",
              "  <tbody>\n",
              "    <tr>\n",
              "      <th>0</th>\n",
              "      <td>1</td>\n",
              "      <td>1</td>\n",
              "      <td>1587</td>\n",
              "      <td>774</td>\n",
              "      <td>260</td>\n",
              "      <td>340</td>\n",
              "      <td>128</td>\n",
              "      <td>0</td>\n",
              "      <td>1502</td>\n",
              "      <td>0</td>\n",
              "      <td>0</td>\n",
              "      <td>4.7</td>\n",
              "      <td>5.0</td>\n",
              "      <td>4.7</td>\n",
              "      <td>5.0</td>\n",
              "      <td>4</td>\n",
              "      <td>0</td>\n",
              "      <td>4.0</td>\n",
              "      <td>7490</td>\n",
              "      <td>7490</td>\n",
              "    </tr>\n",
              "    <tr>\n",
              "      <th>1</th>\n",
              "      <td>2</td>\n",
              "      <td>2</td>\n",
              "      <td>260</td>\n",
              "      <td>9</td>\n",
              "      <td>4</td>\n",
              "      <td>3</td>\n",
              "      <td>193</td>\n",
              "      <td>41</td>\n",
              "      <td>51</td>\n",
              "      <td>138</td>\n",
              "      <td>61</td>\n",
              "      <td>16.0</td>\n",
              "      <td>16.6</td>\n",
              "      <td>16.0</td>\n",
              "      <td>16.6</td>\n",
              "      <td>2</td>\n",
              "      <td>0</td>\n",
              "      <td>17.0</td>\n",
              "      <td>4150</td>\n",
              "      <td>4150</td>\n",
              "    </tr>\n",
              "    <tr>\n",
              "      <th>2</th>\n",
              "      <td>3</td>\n",
              "      <td>3</td>\n",
              "      <td>152</td>\n",
              "      <td>25</td>\n",
              "      <td>33</td>\n",
              "      <td>28</td>\n",
              "      <td>42</td>\n",
              "      <td>35</td>\n",
              "      <td>163</td>\n",
              "      <td>0</td>\n",
              "      <td>0</td>\n",
              "      <td>4.4</td>\n",
              "      <td>4.1</td>\n",
              "      <td>4.4</td>\n",
              "      <td>4.1</td>\n",
              "      <td>1</td>\n",
              "      <td>0</td>\n",
              "      <td>9.0</td>\n",
              "      <td>668</td>\n",
              "      <td>668</td>\n",
              "    </tr>\n",
              "    <tr>\n",
              "      <th>3</th>\n",
              "      <td>4</td>\n",
              "      <td>4</td>\n",
              "      <td>252</td>\n",
              "      <td>151</td>\n",
              "      <td>28</td>\n",
              "      <td>8</td>\n",
              "      <td>39</td>\n",
              "      <td>0</td>\n",
              "      <td>69</td>\n",
              "      <td>153</td>\n",
              "      <td>4</td>\n",
              "      <td>12.8</td>\n",
              "      <td>14.3</td>\n",
              "      <td>15.5</td>\n",
              "      <td>17.3</td>\n",
              "      <td>1</td>\n",
              "      <td>0</td>\n",
              "      <td>4.0</td>\n",
              "      <td>3901</td>\n",
              "      <td>3238</td>\n",
              "    </tr>\n",
              "    <tr>\n",
              "      <th>4</th>\n",
              "      <td>5</td>\n",
              "      <td>5</td>\n",
              "      <td>292</td>\n",
              "      <td>93</td>\n",
              "      <td>0</td>\n",
              "      <td>194</td>\n",
              "      <td>20</td>\n",
              "      <td>0</td>\n",
              "      <td>0</td>\n",
              "      <td>307</td>\n",
              "      <td>0</td>\n",
              "      <td>10.3</td>\n",
              "      <td>9.8</td>\n",
              "      <td>12.4</td>\n",
              "      <td>11.7</td>\n",
              "      <td>1</td>\n",
              "      <td>0</td>\n",
              "      <td>13.0</td>\n",
              "      <td>3607</td>\n",
              "      <td>2994</td>\n",
              "    </tr>\n",
              "  </tbody>\n",
              "</table>\n",
              "</div>\n",
              "      <button class=\"colab-df-convert\" onclick=\"convertToInteractive('df-72030c86-d205-4490-896c-5dea2e970f5b')\"\n",
              "              title=\"Convert this dataframe to an interactive table.\"\n",
              "              style=\"display:none;\">\n",
              "        \n",
              "  <svg xmlns=\"http://www.w3.org/2000/svg\" height=\"24px\"viewBox=\"0 0 24 24\"\n",
              "       width=\"24px\">\n",
              "    <path d=\"M0 0h24v24H0V0z\" fill=\"none\"/>\n",
              "    <path d=\"M18.56 5.44l.94 2.06.94-2.06 2.06-.94-2.06-.94-.94-2.06-.94 2.06-2.06.94zm-11 1L8.5 8.5l.94-2.06 2.06-.94-2.06-.94L8.5 2.5l-.94 2.06-2.06.94zm10 10l.94 2.06.94-2.06 2.06-.94-2.06-.94-.94-2.06-.94 2.06-2.06.94z\"/><path d=\"M17.41 7.96l-1.37-1.37c-.4-.4-.92-.59-1.43-.59-.52 0-1.04.2-1.43.59L10.3 9.45l-7.72 7.72c-.78.78-.78 2.05 0 2.83L4 21.41c.39.39.9.59 1.41.59.51 0 1.02-.2 1.41-.59l7.78-7.78 2.81-2.81c.8-.78.8-2.07 0-2.86zM5.41 20L4 18.59l7.72-7.72 1.47 1.35L5.41 20z\"/>\n",
              "  </svg>\n",
              "      </button>\n",
              "      \n",
              "  <style>\n",
              "    .colab-df-container {\n",
              "      display:flex;\n",
              "      flex-wrap:wrap;\n",
              "      gap: 12px;\n",
              "    }\n",
              "\n",
              "    .colab-df-convert {\n",
              "      background-color: #E8F0FE;\n",
              "      border: none;\n",
              "      border-radius: 50%;\n",
              "      cursor: pointer;\n",
              "      display: none;\n",
              "      fill: #1967D2;\n",
              "      height: 32px;\n",
              "      padding: 0 0 0 0;\n",
              "      width: 32px;\n",
              "    }\n",
              "\n",
              "    .colab-df-convert:hover {\n",
              "      background-color: #E2EBFA;\n",
              "      box-shadow: 0px 1px 2px rgba(60, 64, 67, 0.3), 0px 1px 3px 1px rgba(60, 64, 67, 0.15);\n",
              "      fill: #174EA6;\n",
              "    }\n",
              "\n",
              "    [theme=dark] .colab-df-convert {\n",
              "      background-color: #3B4455;\n",
              "      fill: #D2E3FC;\n",
              "    }\n",
              "\n",
              "    [theme=dark] .colab-df-convert:hover {\n",
              "      background-color: #434B5C;\n",
              "      box-shadow: 0px 1px 3px 1px rgba(0, 0, 0, 0.15);\n",
              "      filter: drop-shadow(0px 1px 2px rgba(0, 0, 0, 0.3));\n",
              "      fill: #FFFFFF;\n",
              "    }\n",
              "  </style>\n",
              "\n",
              "      <script>\n",
              "        const buttonEl =\n",
              "          document.querySelector('#df-72030c86-d205-4490-896c-5dea2e970f5b button.colab-df-convert');\n",
              "        buttonEl.style.display =\n",
              "          google.colab.kernel.accessAllowed ? 'block' : 'none';\n",
              "\n",
              "        async function convertToInteractive(key) {\n",
              "          const element = document.querySelector('#df-72030c86-d205-4490-896c-5dea2e970f5b');\n",
              "          const dataTable =\n",
              "            await google.colab.kernel.invokeFunction('convertToInteractive',\n",
              "                                                     [key], {});\n",
              "          if (!dataTable) return;\n",
              "\n",
              "          const docLinkHtml = 'Like what you see? Visit the ' +\n",
              "            '<a target=\"_blank\" href=https://colab.research.google.com/notebooks/data_table.ipynb>data table notebook</a>'\n",
              "            + ' to learn more about interactive tables.';\n",
              "          element.innerHTML = '';\n",
              "          dataTable['output_type'] = 'display_data';\n",
              "          await google.colab.output.renderOutput(dataTable, element);\n",
              "          const docLink = document.createElement('div');\n",
              "          docLink.innerHTML = docLinkHtml;\n",
              "          element.appendChild(docLink);\n",
              "        }\n",
              "      </script>\n",
              "    </div>\n",
              "  </div>\n",
              "  "
            ]
          },
          "metadata": {},
          "execution_count": 35
        }
      ]
    },
    {
      "cell_type": "code",
      "source": [
        "data=df.drop(['id'],axis=1)\n",
        "data.shape"
      ],
      "metadata": {
        "colab": {
          "base_uri": "https://localhost:8080/"
        },
        "id": "p2Ddx9aJiieQ",
        "outputId": "5e1021a3-a4ad-4563-967a-eacd0c79a4a5"
      },
      "execution_count": 36,
      "outputs": [
        {
          "output_type": "execute_result",
          "data": {
            "text/plain": [
              "(499, 19)"
            ]
          },
          "metadata": {},
          "execution_count": 36
        }
      ]
    },
    {
      "cell_type": "code",
      "source": [
        "X=data.drop(['Effort'],axis=1)\n",
        "y=data['Effort']\n",
        "print(X)\n",
        "print(y)"
      ],
      "metadata": {
        "colab": {
          "base_uri": "https://localhost:8080/"
        },
        "id": "vFGU4swHi1u7",
        "outputId": "7edb10f3-f791-4e36-c18c-9f0555dc5fe4"
      },
      "execution_count": 37,
      "outputs": [
        {
          "output_type": "stream",
          "name": "stdout",
          "text": [
            "      ID   AFP  Input  Output  Enquiry  File  Interface  Added  Changed  \\\n",
            "0      1  1587    774     260      340   128          0   1502        0   \n",
            "1      2   260      9       4        3   193         41     51      138   \n",
            "2      3   152     25      33       28    42         35    163        0   \n",
            "3      4   252    151      28        8    39          0     69      153   \n",
            "4      5   292     93       0      194    20          0      0      307   \n",
            "..   ...   ...    ...     ...      ...   ...        ...    ...      ...   \n",
            "494  495    51     32       0       16     7          0      0       55   \n",
            "495  496  1106    410     267      108   152         25    962        0   \n",
            "496  497    99     13      32        3    42          5     95        0   \n",
            "497  498    56     24       0        9    14          0     47        0   \n",
            "498  499   213    123      91       28     0          0     36      206   \n",
            "\n",
            "     Deleted  PDR_AFP  PDR_UFP  NPDR_AFP  NPDU_UFP  Resource  Dev.Type  \\\n",
            "0          0      4.7      5.0       4.7       5.0         4         0   \n",
            "1         61     16.0     16.6      16.0      16.6         2         0   \n",
            "2          0      4.4      4.1       4.4       4.1         1         0   \n",
            "3          4     12.8     14.3      15.5      17.3         1         0   \n",
            "4          0     10.3      9.8      12.4      11.7         1         0   \n",
            "..       ...      ...      ...       ...       ...       ...       ...   \n",
            "494        0     17.6     16.3      21.2      19.7         1         0   \n",
            "495        0     15.0     17.2      17.2      19.8         2         0   \n",
            "496        0      5.3      5.5       6.4       6.7         1         0   \n",
            "497        0      7.9      9.4       7.9       9.4         2         0   \n",
            "498        0     10.3      9.0      10.3       9.0         1         0   \n",
            "\n",
            "     Duration  N_effort  \n",
            "0         4.0      7490  \n",
            "1        17.0      4150  \n",
            "2         9.0       668  \n",
            "3         4.0      3901  \n",
            "4        13.0      3607  \n",
            "..        ...       ...  \n",
            "494       3.0      1083  \n",
            "495      20.0     19034  \n",
            "496       4.0       634  \n",
            "497       6.0       440  \n",
            "498       7.0      2185  \n",
            "\n",
            "[499 rows x 18 columns]\n",
            "0       7490\n",
            "1       4150\n",
            "2        668\n",
            "3       3238\n",
            "4       2994\n",
            "       ...  \n",
            "494      899\n",
            "495    16560\n",
            "496      526\n",
            "497      440\n",
            "498     2185\n",
            "Name: Effort, Length: 499, dtype: int64\n"
          ]
        }
      ]
    },
    {
      "cell_type": "code",
      "source": [
        "# Train Test Split\n",
        "X_train, X_test, y_train, y_test = train_test_split(X, y, test_size=0.3, random_state=101)\n",
        "X_train.shape, y_train.shape, X_test.shape, y_test.shape"
      ],
      "metadata": {
        "colab": {
          "base_uri": "https://localhost:8080/"
        },
        "id": "uVGTT4Qvjhi3",
        "outputId": "7f00bf75-2c8d-4f55-e404-3bd9bfa81834"
      },
      "execution_count": 38,
      "outputs": [
        {
          "output_type": "execute_result",
          "data": {
            "text/plain": [
              "((349, 18), (349,), (150, 18), (150,))"
            ]
          },
          "metadata": {},
          "execution_count": 38
        }
      ]
    },
    {
      "cell_type": "code",
      "source": [
        "# Visualize Correlated Features\n",
        "# corr = X_train.corr()\n",
        "corr=data.corr()\n",
        "fig, ax = plt.subplots()\n",
        "fig.set_size_inches(11,11)\n",
        "sns.heatmap(corr)"
      ],
      "metadata": {
        "colab": {
          "base_uri": "https://localhost:8080/",
          "height": 710
        },
        "id": "teVgaQ-ojs6m",
        "outputId": "2918f60d-8b58-4237-ff14-c15588c17953"
      },
      "execution_count": 39,
      "outputs": [
        {
          "output_type": "execute_result",
          "data": {
            "text/plain": [
              "<AxesSubplot:>"
            ]
          },
          "metadata": {},
          "execution_count": 39
        },
        {
          "output_type": "display_data",
          "data": {
            "text/plain": [
              "<Figure size 792x792 with 2 Axes>"
            ],
            "image/png": "[encoded data removed]"
          },
          "metadata": {
            "needs_background": "light"
          }
        }
      ]
    },
    {
      "cell_type": "markdown",
      "source": [
        "## Brute Force Method to find Correlated Features"
      ],
      "metadata": {
        "id": "_nuS5qkEj1_N"
      }
    },
    {
      "cell_type": "code",
      "source": [
        "from pandas.core.indexes.multi import names_compat\n",
        "# Brute Force Method to find Correlation between features\n",
        "def correlation(data, threshold=None):\n",
        "    # Set of all names of correlated columns\n",
        "    col_corr = set()\n",
        "    corr_mat = data.corr()\n",
        "    # for i in range(len(corr_mat.columns)):\n",
        "    #     for j in range(i):\n",
        "    #         if (abs(corr_mat.iloc[i,j]) > threshold):\n",
        "    #             colname = corr_mat.columns[i]\n",
        "    #             col_corr.add(colname)\n",
        "    n=len(corr_mat.columns)\n",
        "    # print(corr_mat)\n",
        "    corr_features=set()\n",
        "    features=[]\n",
        "    for i in range(n-1):\n",
        "        if(abs(corr_mat.iloc[i,n-1])>threshold):\n",
        "            colname = corr_mat.columns[i]\n",
        "            corr_features.add(colname)\n",
        "            features.append(i)\n",
        "    return corr_features,features"
      ],
      "metadata": {
        "id": "SWvyw8Lqj1RG"
      },
      "execution_count": 40,
      "outputs": []
    },
    {
      "cell_type": "code",
      "source": [
        "correlated_features,features = correlation(data=data, threshold=0.1)\n",
        "print(len(set(correlated_features)))\n",
        "print(correlated_features)\n",
        "print(features)"
      ],
      "metadata": {
        "colab": {
          "base_uri": "https://localhost:8080/"
        },
        "id": "zotDkhEJkJfA",
        "outputId": "10a60825-66f0-45ef-ba4a-56e6c40a7c40"
      },
      "execution_count": 41,
      "outputs": [
        {
          "output_type": "stream",
          "name": "stdout",
          "text": [
            "15\n",
            "{'PDR_AFP', 'N_effort', 'Output', 'Input', 'File', 'Added', 'Interface', 'AFP', 'NPDR_AFP', 'NPDU_UFP', 'PDR_UFP', 'Duration', 'Changed', 'Resource', 'Enquiry'}\n",
            "[1, 2, 3, 4, 5, 6, 7, 8, 10, 11, 12, 13, 14, 16, 17]\n"
          ]
        }
      ]
    },
    {
      "cell_type": "code",
      "source": [
        "x_data=X.iloc[:, features].values\n",
        "y_data=y\n",
        "\n",
        "# Linear Regression \n",
        "x_train, x_test, y_train, y_test = split_data( x_data, y_data, test_size = 1/4, random_state = 80, shuffle=True) \n",
        "regressor = LinearRegression()\n",
        "regressor = regressor.fit(x_train, y_train)\n",
        "y_pred = regressor.predict(x_test)\n",
        "\n",
        "# Root Mean Sqaured Error\n",
        "MSE = np.square(np.subtract(y_test,y_pred)/np.maximum(np.absolute(y_test),np.absolute(y_pred))).mean() \n",
        "RMSE = math.sqrt(MSE)\n",
        "print(\"Root Mean Squared Error :\",RMSE)\n",
        "\n",
        "# Mean Absolute Error\n",
        "from sklearn.metrics import mean_absolute_error as MAE\n",
        "error = (np.subtract(y_test,y_pred)/np.maximum(np.absolute(y_test),np.absolute(y_pred))).mean()\n",
        "print(f'MAE error is {error}')"
      ],
      "metadata": {
        "id": "aWpcgljwk8z_",
        "colab": {
          "base_uri": "https://localhost:8080/"
        },
        "outputId": "3e277db8-fe63-481b-93eb-42dc242ac891"
      },
      "execution_count": 42,
      "outputs": [
        {
          "output_type": "stream",
          "name": "stdout",
          "text": [
            "Root Mean Squared Error : 0.35325310586805875\n",
            "MAE error is 0.08428359724035786\n"
          ]
        }
      ]
    },
    {
      "cell_type": "code",
      "source": [
        "# SVM\n",
        "from sklearn.model_selection import train_test_split as split_data\n",
        "X_train, X_test, Y_train, Y_test = split_data(x_data, y_data , test_size = 0.2 , shuffle=True)\n",
        "\n",
        "from sklearn.svm import SVR\n",
        "from sklearn.metrics import accuracy_score\n",
        "svr=SVR() \n",
        "svr.fit(X_train,Y_train)\n",
        "Y_pred=svr.predict(X_test)\n",
        "\n",
        "#Root Mean Squared Error\n",
        "MSE = np.square(np.subtract(Y_test,Y_pred)/np.maximum(np.absolute(Y_test),np.absolute(Y_pred))).mean() \n",
        "RMSE = math.sqrt(MSE)\n",
        "print(\"Root Mean Square Error:\\n\")\n",
        "print(RMSE)\n",
        "\n",
        "# Mean Absolute Error\n",
        "from sklearn.metrics import mean_absolute_error as MAE\n",
        "error = (np.subtract(Y_test,Y_pred)/np.maximum(np.absolute(Y_test),np.absolute(Y_pred))).mean()\n",
        "print(f'MAE error is {error}')"
      ],
      "metadata": {
        "colab": {
          "base_uri": "https://localhost:8080/"
        },
        "id": "Rw--NdEPCiPy",
        "outputId": "2f66b534-5b09-4a2b-8047-7e88c54ac993"
      },
      "execution_count": 48,
      "outputs": [
        {
          "output_type": "stream",
          "name": "stdout",
          "text": [
            "Root Mean Square Error:\n",
            "\n",
            "0.6095697201196488\n",
            "MAE error is 0.02339607280355673\n"
          ]
        }
      ]
    },
    {
      "cell_type": "code",
      "source": [
        "# Random Forest\n",
        "from sklearn.model_selection import train_test_split as split_data\n",
        "x_train, x_test, y_train, y_test = split_data(x_data, y_data, test_size=0.20, shuffle=True)\n",
        "\n",
        "from sklearn.tree import DecisionTreeRegressor\n",
        "from sklearn.ensemble import RandomForestRegressor\n",
        "treeModel = DecisionTreeRegressor(max_depth=5, random_state=None)\n",
        "treeModel.fit(x_train, y_train)\n",
        "model = RandomForestRegressor(max_depth=5, random_state=None,max_features='auto',max_leaf_nodes=5,n_estimators=50, criterion=\"absolute_error\")\n",
        "model.fit(x_train, y_train)\n",
        "y_pred = model.predict(x_test)\n",
        "\n",
        "# Mean Absolute Error\n",
        "from sklearn.metrics import mean_absolute_error as MAE\n",
        "error = (np.subtract(y_test,y_pred)/np.maximum(np.absolute(y_test),np.absolute(y_pred))).mean()\n",
        "print(f'MAE error is {error}')\n",
        "\n",
        "# Root Mean Squared Error\n",
        "MSE = np.square(np.subtract(y_test,y_pred)/np.maximum(np.absolute(y_test),np.absolute(y_pred))).mean() \n",
        "RMSE = math.sqrt(MSE)\n",
        "print(\"Root Mean Square Error:\")\n",
        "print(RMSE)"
      ],
      "metadata": {
        "colab": {
          "base_uri": "https://localhost:8080/"
        },
        "id": "wrZfwOoBCmVI",
        "outputId": "ea1e9bd5-84c9-42fb-f513-1946b85ed816"
      },
      "execution_count": 55,
      "outputs": [
        {
          "output_type": "stream",
          "name": "stdout",
          "text": [
            "MAE error is -0.14135049775336367\n",
            "Root Mean Square Error:\n",
            "0.3718394652182474\n"
          ]
        }
      ]
    }
  ]
}