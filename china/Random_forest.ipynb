{
  "nbformat": 4,
  "nbformat_minor": 0,
  "metadata": {
    "colab": {
      "provenance": []
    },
    "kernelspec": {
      "name": "python3",
      "display_name": "Python 3"
    },
    "language_info": {
      "name": "python"
    }
  },
  "cells": [
    {
      "cell_type": "code",
      "execution_count": 586,
      "metadata": {
        "id": "5wEqBs1EJKez"
      },
      "outputs": [],
      "source": [
        "import matplotlib.pyplot as plt\n",
        "%matplotlib inline\n",
        "import pandas as pd\n",
        "import numpy as np"
      ]
    },
    {
      "cell_type": "code",
      "source": [
        "# Import make_regression method to generate artificial data samples \n",
        "from sklearn.datasets import make_regression"
      ],
      "metadata": {
        "id": "-tGMwY7DJk5u"
      },
      "execution_count": 587,
      "outputs": []
    },
    {
      "cell_type": "code",
      "source": [
        "data = pd.read_csv('china.csv')"
      ],
      "metadata": {
        "id": "xz0yEEP1LCHM"
      },
      "execution_count": 588,
      "outputs": []
    },
    {
      "cell_type": "code",
      "source": [
        "del data['id']\n",
        "data.head()"
      ],
      "metadata": {
        "colab": {
          "base_uri": "https://localhost:8080/",
          "height": 250
        },
        "id": "_3aYCRWSLIBf",
        "outputId": "5be649f1-14e7-4b1c-b6e8-abc4f5b27f1e"
      },
      "execution_count": 589,
      "outputs": [
        {
          "output_type": "execute_result",
          "data": {
            "text/plain": [
              "   ID   AFP  Input  Output  Enquiry  File  Interface  Added  Changed  Deleted  \\\n",
              "0   1  1587    774     260      340   128          0   1502        0        0   \n",
              "1   2   260      9       4        3   193         41     51      138       61   \n",
              "2   3   152     25      33       28    42         35    163        0        0   \n",
              "3   4   252    151      28        8    39          0     69      153        4   \n",
              "4   5   292     93       0      194    20          0      0      307        0   \n",
              "\n",
              "   PDR_AFP  PDR_UFP  NPDR_AFP  NPDU_UFP  Resource  Dev.Type  Duration  \\\n",
              "0      4.7      5.0       4.7       5.0         4         0       4.0   \n",
              "1     16.0     16.6      16.0      16.6         2         0      17.0   \n",
              "2      4.4      4.1       4.4       4.1         1         0       9.0   \n",
              "3     12.8     14.3      15.5      17.3         1         0       4.0   \n",
              "4     10.3      9.8      12.4      11.7         1         0      13.0   \n",
              "\n",
              "   N_effort  Effort  \n",
              "0      7490    7490  \n",
              "1      4150    4150  \n",
              "2       668     668  \n",
              "3      3901    3238  \n",
              "4      3607    2994  "
            ],
            "text/html": [
              "\n",
              "  <div id=\"df-80019923-094d-447d-9171-8bacb2bfce97\">\n",
              "    <div class=\"colab-df-container\">\n",
              "      <div>\n",
              "<style scoped>\n",
              "    .dataframe tbody tr th:only-of-type {\n",
              "        vertical-align: middle;\n",
              "    }\n",
              "\n",
              "    .dataframe tbody tr th {\n",
              "        vertical-align: top;\n",
              "    }\n",
              "\n",
              "    .dataframe thead th {\n",
              "        text-align: right;\n",
              "    }\n",
              "</style>\n",
              "<table border=\"1\" class=\"dataframe\">\n",
              "  <thead>\n",
              "    <tr style=\"text-align: right;\">\n",
              "      <th></th>\n",
              "      <th>ID</th>\n",
              "      <th>AFP</th>\n",
              "      <th>Input</th>\n",
              "      <th>Output</th>\n",
              "      <th>Enquiry</th>\n",
              "      <th>File</th>\n",
              "      <th>Interface</th>\n",
              "      <th>Added</th>\n",
              "      <th>Changed</th>\n",
              "      <th>Deleted</th>\n",
              "      <th>PDR_AFP</th>\n",
              "      <th>PDR_UFP</th>\n",
              "      <th>NPDR_AFP</th>\n",
              "      <th>NPDU_UFP</th>\n",
              "      <th>Resource</th>\n",
              "      <th>Dev.Type</th>\n",
              "      <th>Duration</th>\n",
              "      <th>N_effort</th>\n",
              "      <th>Effort</th>\n",
              "    </tr>\n",
              "  </thead>\n",
              "  <tbody>\n",
              "    <tr>\n",
              "      <th>0</th>\n",
              "      <td>1</td>\n",
              "      <td>1587</td>\n",
              "      <td>774</td>\n",
              "      <td>260</td>\n",
              "      <td>340</td>\n",
              "      <td>128</td>\n",
              "      <td>0</td>\n",
              "      <td>1502</td>\n",
              "      <td>0</td>\n",
              "      <td>0</td>\n",
              "      <td>4.7</td>\n",
              "      <td>5.0</td>\n",
              "      <td>4.7</td>\n",
              "      <td>5.0</td>\n",
              "      <td>4</td>\n",
              "      <td>0</td>\n",
              "      <td>4.0</td>\n",
              "      <td>7490</td>\n",
              "      <td>7490</td>\n",
              "    </tr>\n",
              "    <tr>\n",
              "      <th>1</th>\n",
              "      <td>2</td>\n",
              "      <td>260</td>\n",
              "      <td>9</td>\n",
              "      <td>4</td>\n",
              "      <td>3</td>\n",
              "      <td>193</td>\n",
              "      <td>41</td>\n",
              "      <td>51</td>\n",
              "      <td>138</td>\n",
              "      <td>61</td>\n",
              "      <td>16.0</td>\n",
              "      <td>16.6</td>\n",
              "      <td>16.0</td>\n",
              "      <td>16.6</td>\n",
              "      <td>2</td>\n",
              "      <td>0</td>\n",
              "      <td>17.0</td>\n",
              "      <td>4150</td>\n",
              "      <td>4150</td>\n",
              "    </tr>\n",
              "    <tr>\n",
              "      <th>2</th>\n",
              "      <td>3</td>\n",
              "      <td>152</td>\n",
              "      <td>25</td>\n",
              "      <td>33</td>\n",
              "      <td>28</td>\n",
              "      <td>42</td>\n",
              "      <td>35</td>\n",
              "      <td>163</td>\n",
              "      <td>0</td>\n",
              "      <td>0</td>\n",
              "      <td>4.4</td>\n",
              "      <td>4.1</td>\n",
              "      <td>4.4</td>\n",
              "      <td>4.1</td>\n",
              "      <td>1</td>\n",
              "      <td>0</td>\n",
              "      <td>9.0</td>\n",
              "      <td>668</td>\n",
              "      <td>668</td>\n",
              "    </tr>\n",
              "    <tr>\n",
              "      <th>3</th>\n",
              "      <td>4</td>\n",
              "      <td>252</td>\n",
              "      <td>151</td>\n",
              "      <td>28</td>\n",
              "      <td>8</td>\n",
              "      <td>39</td>\n",
              "      <td>0</td>\n",
              "      <td>69</td>\n",
              "      <td>153</td>\n",
              "      <td>4</td>\n",
              "      <td>12.8</td>\n",
              "      <td>14.3</td>\n",
              "      <td>15.5</td>\n",
              "      <td>17.3</td>\n",
              "      <td>1</td>\n",
              "      <td>0</td>\n",
              "      <td>4.0</td>\n",
              "      <td>3901</td>\n",
              "      <td>3238</td>\n",
              "    </tr>\n",
              "    <tr>\n",
              "      <th>4</th>\n",
              "      <td>5</td>\n",
              "      <td>292</td>\n",
              "      <td>93</td>\n",
              "      <td>0</td>\n",
              "      <td>194</td>\n",
              "      <td>20</td>\n",
              "      <td>0</td>\n",
              "      <td>0</td>\n",
              "      <td>307</td>\n",
              "      <td>0</td>\n",
              "      <td>10.3</td>\n",
              "      <td>9.8</td>\n",
              "      <td>12.4</td>\n",
              "      <td>11.7</td>\n",
              "      <td>1</td>\n",
              "      <td>0</td>\n",
              "      <td>13.0</td>\n",
              "      <td>3607</td>\n",
              "      <td>2994</td>\n",
              "    </tr>\n",
              "  </tbody>\n",
              "</table>\n",
              "</div>\n",
              "      <button class=\"colab-df-convert\" onclick=\"convertToInteractive('df-80019923-094d-447d-9171-8bacb2bfce97')\"\n",
              "              title=\"Convert this dataframe to an interactive table.\"\n",
              "              style=\"display:none;\">\n",
              "        \n",
              "  <svg xmlns=\"http://www.w3.org/2000/svg\" height=\"24px\"viewBox=\"0 0 24 24\"\n",
              "       width=\"24px\">\n",
              "    <path d=\"M0 0h24v24H0V0z\" fill=\"none\"/>\n",
              "    <path d=\"M18.56 5.44l.94 2.06.94-2.06 2.06-.94-2.06-.94-.94-2.06-.94 2.06-2.06.94zm-11 1L8.5 8.5l.94-2.06 2.06-.94-2.06-.94L8.5 2.5l-.94 2.06-2.06.94zm10 10l.94 2.06.94-2.06 2.06-.94-2.06-.94-.94-2.06-.94 2.06-2.06.94z\"/><path d=\"M17.41 7.96l-1.37-1.37c-.4-.4-.92-.59-1.43-.59-.52 0-1.04.2-1.43.59L10.3 9.45l-7.72 7.72c-.78.78-.78 2.05 0 2.83L4 21.41c.39.39.9.59 1.41.59.51 0 1.02-.2 1.41-.59l7.78-7.78 2.81-2.81c.8-.78.8-2.07 0-2.86zM5.41 20L4 18.59l7.72-7.72 1.47 1.35L5.41 20z\"/>\n",
              "  </svg>\n",
              "      </button>\n",
              "      \n",
              "  <style>\n",
              "    .colab-df-container {\n",
              "      display:flex;\n",
              "      flex-wrap:wrap;\n",
              "      gap: 12px;\n",
              "    }\n",
              "\n",
              "    .colab-df-convert {\n",
              "      background-color: #E8F0FE;\n",
              "      border: none;\n",
              "      border-radius: 50%;\n",
              "      cursor: pointer;\n",
              "      display: none;\n",
              "      fill: #1967D2;\n",
              "      height: 32px;\n",
              "      padding: 0 0 0 0;\n",
              "      width: 32px;\n",
              "    }\n",
              "\n",
              "    .colab-df-convert:hover {\n",
              "      background-color: #E2EBFA;\n",
              "      box-shadow: 0px 1px 2px rgba(60, 64, 67, 0.3), 0px 1px 3px 1px rgba(60, 64, 67, 0.15);\n",
              "      fill: #174EA6;\n",
              "    }\n",
              "\n",
              "    [theme=dark] .colab-df-convert {\n",
              "      background-color: #3B4455;\n",
              "      fill: #D2E3FC;\n",
              "    }\n",
              "\n",
              "    [theme=dark] .colab-df-convert:hover {\n",
              "      background-color: #434B5C;\n",
              "      box-shadow: 0px 1px 3px 1px rgba(0, 0, 0, 0.15);\n",
              "      filter: drop-shadow(0px 1px 2px rgba(0, 0, 0, 0.3));\n",
              "      fill: #FFFFFF;\n",
              "    }\n",
              "  </style>\n",
              "\n",
              "      <script>\n",
              "        const buttonEl =\n",
              "          document.querySelector('#df-80019923-094d-447d-9171-8bacb2bfce97 button.colab-df-convert');\n",
              "        buttonEl.style.display =\n",
              "          google.colab.kernel.accessAllowed ? 'block' : 'none';\n",
              "\n",
              "        async function convertToInteractive(key) {\n",
              "          const element = document.querySelector('#df-80019923-094d-447d-9171-8bacb2bfce97');\n",
              "          const dataTable =\n",
              "            await google.colab.kernel.invokeFunction('convertToInteractive',\n",
              "                                                     [key], {});\n",
              "          if (!dataTable) return;\n",
              "\n",
              "          const docLinkHtml = 'Like what you see? Visit the ' +\n",
              "            '<a target=\"_blank\" href=https://colab.research.google.com/notebooks/data_table.ipynb>data table notebook</a>'\n",
              "            + ' to learn more about interactive tables.';\n",
              "          element.innerHTML = '';\n",
              "          dataTable['output_type'] = 'display_data';\n",
              "          await google.colab.output.renderOutput(dataTable, element);\n",
              "          const docLink = document.createElement('div');\n",
              "          docLink.innerHTML = docLinkHtml;\n",
              "          element.appendChild(docLink);\n",
              "        }\n",
              "      </script>\n",
              "    </div>\n",
              "  </div>\n",
              "  "
            ]
          },
          "metadata": {},
          "execution_count": 589
        }
      ]
    },
    {
      "cell_type": "code",
      "source": [
        "x = data.iloc[:, :-1]\n",
        "y = data.iloc[:, -1]\n",
        "from sklearn.preprocessing import StandardScaler\n",
        "scaler = StandardScaler()\n",
        "x = scaler.fit_transform(x)\n",
        "print(x.shape)\n",
        "print(\"-------------------------\")\n",
        "print(y.shape)"
      ],
      "metadata": {
        "colab": {
          "base_uri": "https://localhost:8080/"
        },
        "id": "VWOEpFGMLISg",
        "outputId": "f972ba4b-8337-4848-a1fe-f3b853a9d824"
      },
      "execution_count": 590,
      "outputs": [
        {
          "output_type": "stream",
          "name": "stdout",
          "text": [
            "(499, 18)\n",
            "-------------------------\n",
            "(499,)\n"
          ]
        }
      ]
    },
    {
      "cell_type": "code",
      "source": [
        "from sklearn.model_selection import train_test_split as split_data\n",
        "x_train, x_test, y_train, y_test = split_data(x, y, test_size=0.20, shuffle=True)\n",
        "print(x_train.shape, x_test.shape, y_train.shape, y_test.shape)"
      ],
      "metadata": {
        "colab": {
          "base_uri": "https://localhost:8080/"
        },
        "id": "ETmEL4DjDXEC",
        "outputId": "bdb15e59-29b1-4c1a-f6db-bfe097486ca6"
      },
      "execution_count": 591,
      "outputs": [
        {
          "output_type": "stream",
          "name": "stdout",
          "text": [
            "(399, 18) (100, 18) (399,) (100,)\n"
          ]
        }
      ]
    },
    {
      "cell_type": "code",
      "source": [
        "from sklearn.tree import DecisionTreeRegressor\n",
        "treeModel = DecisionTreeRegressor(max_depth=5, random_state=None)"
      ],
      "metadata": {
        "id": "s_T5zqsLJtZb"
      },
      "execution_count": 592,
      "outputs": []
    },
    {
      "cell_type": "code",
      "source": [
        "treeModel.fit(x_train, y_train)"
      ],
      "metadata": {
        "colab": {
          "base_uri": "https://localhost:8080/"
        },
        "id": "T1WYmRM-JvI9",
        "outputId": "fbfe8289-4d89-4dff-8567-f8df78f8397f"
      },
      "execution_count": 593,
      "outputs": [
        {
          "output_type": "execute_result",
          "data": {
            "text/plain": [
              "DecisionTreeRegressor(max_depth=5)"
            ]
          },
          "metadata": {},
          "execution_count": 593
        }
      ]
    },
    {
      "cell_type": "code",
      "source": [
        "print(\"Regression coefficient:\",treeModel.score(x_train,y_train))"
      ],
      "metadata": {
        "colab": {
          "base_uri": "https://localhost:8080/"
        },
        "id": "YjbBbXxsJzVW",
        "outputId": "7b6b3680-5bd4-48d8-e27c-8ac5e98f0990"
      },
      "execution_count": 594,
      "outputs": [
        {
          "output_type": "stream",
          "name": "stdout",
          "text": [
            "Regression coefficient: 0.9971625055780979\n"
          ]
        }
      ]
    },
    {
      "cell_type": "code",
      "source": [
        "from sklearn.ensemble import RandomForestRegressor"
      ],
      "metadata": {
        "id": "YZtPdWYmJ2eP"
      },
      "execution_count": 595,
      "outputs": []
    },
    {
      "cell_type": "code",
      "source": [
        "model = RandomForestRegressor(max_depth=5, random_state=None,max_features='auto',max_leaf_nodes=5,n_estimators=50, criterion=\"absolute_error\")\n",
        "model.fit(x_train, y_train)"
      ],
      "metadata": {
        "colab": {
          "base_uri": "https://localhost:8080/"
        },
        "id": "-kjEYqe9MiGf",
        "outputId": "973e0944-95a8-49e1-9650-5eb8548ca8a4"
      },
      "execution_count": 596,
      "outputs": [
        {
          "output_type": "execute_result",
          "data": {
            "text/plain": [
              "RandomForestRegressor(criterion='absolute_error', max_depth=5, max_leaf_nodes=5,\n",
              "                      n_estimators=50)"
            ]
          },
          "metadata": {},
          "execution_count": 596
        }
      ]
    },
    {
      "cell_type": "code",
      "source": [
        "print(\"Regression coefficient:\",model.score(x_train,y_train))"
      ],
      "metadata": {
        "colab": {
          "base_uri": "https://localhost:8080/"
        },
        "id": "vFoNebLlMm8h",
        "outputId": "7f2b916e-2040-4af3-e827-8b2352075b08"
      },
      "execution_count": 597,
      "outputs": [
        {
          "output_type": "stream",
          "name": "stdout",
          "text": [
            "Regression coefficient: 0.9399715730958856\n"
          ]
        }
      ]
    },
    {
      "cell_type": "code",
      "source": [
        "y_pred = model.predict(x_test)\n",
        "print(y_pred)\n",
        "print(\"-------------------------------\")\n",
        "print(y_test)"
      ],
      "metadata": {
        "id": "N8MqqPzNMpOe",
        "colab": {
          "base_uri": "https://localhost:8080/"
        },
        "outputId": "b4649332-f4da-4bb2-8fd7-ed285a0d317a"
      },
      "execution_count": 598,
      "outputs": [
        {
          "output_type": "stream",
          "name": "stdout",
          "text": [
            "[  745.34  4596.8   2686.82  3509.5    745.34   745.34   901.42 18658.74\n",
            "  2686.82   745.34  6427.28  8780.52   745.34   745.34   745.34   745.34\n",
            "  5301.39  3598.25  6141.28   901.42   745.34  2686.82  7807.67 14686.2\n",
            "   745.34   745.34  1562.17  3415.02  1047.63  4596.8   5139.19   745.34\n",
            "   745.34   745.34   767.76   745.34  7807.67   745.34   745.34  7807.67\n",
            "  2686.82   745.34   767.76   901.42  3415.02  7184.85 16782.01  2686.82\n",
            "  3228.53  1888.33   745.34   745.34  1315.6   8317.02   745.34   745.34\n",
            "  3415.02   745.34   767.76  1888.33   745.34  4596.8    745.34   745.34\n",
            "   745.34   901.42   745.34  3465.46   767.76   745.34 17229.74   745.34\n",
            "   745.34  3228.53  3509.5   7043.07  7184.85  3509.5    745.34  4873.48\n",
            "   745.34  7807.67   745.34  1315.6   1315.6   3228.53  2686.82  1888.33\n",
            "  3415.02 26276.07  6141.28  3465.46  3509.5   2686.82  1242.53   745.34\n",
            "   745.34  3286.47   767.76  3228.53]\n",
            "-------------------------------\n",
            "90      136\n",
            "294    5597\n",
            "303    2600\n",
            "9      3372\n",
            "125     906\n",
            "       ... \n",
            "218     140\n",
            "357     454\n",
            "13     3348\n",
            "404    1238\n",
            "345    2738\n",
            "Name: Effort, Length: 100, dtype: int64\n"
          ]
        }
      ]
    },
    {
      "cell_type": "code",
      "source": [
        "#np.mean(abs(np.array(y_pred)-np.array(y_test)))/np.sum(y_pred)\n",
        "\n",
        "# Mean Absolute Error\n",
        "from sklearn.metrics import mean_absolute_error as MAE\n",
        "# error = MAE(y_test, y_pred)\n",
        "error = (np.absolute(np.subtract(y_test,y_pred)/np.maximum(np.absolute(y_test),np.absolute(y_pred)))).mean()\n",
        "print(f'MAE error is {error}')"
      ],
      "metadata": {
        "colab": {
          "base_uri": "https://localhost:8080/"
        },
        "id": "25bZaxB7FfEa",
        "outputId": "a41d3ef5-6bf3-4c2e-aca5-abedea2dc1d1"
      },
      "execution_count": 599,
      "outputs": [
        {
          "output_type": "stream",
          "name": "stdout",
          "text": [
            "MAE error is 0.2435985086350536\n"
          ]
        }
      ]
    },
    {
      "cell_type": "code",
      "source": [
        "import math\n",
        "# MSE = np.square(np.subtract(y_test,y_pred)).mean() \n",
        "# print(MSE)\n",
        " \n",
        "# RMSE = math.sqrt(MSE)\n",
        "# print(\"Root Mean Square Error:\\n\")\n",
        "# print(RMSE)\n",
        "\n",
        "\n",
        "\n",
        "MSE = np.square(np.subtract(y_test,y_pred)/np.maximum(np.absolute(y_test),np.absolute(y_pred))).mean() \n",
        "RMSE = math.sqrt(MSE)\n",
        "print(\"Root Mean Square Error:\")\n",
        "print(RMSE)"
      ],
      "metadata": {
        "colab": {
          "base_uri": "https://localhost:8080/"
        },
        "id": "FZl0o8kJFpHZ",
        "outputId": "ac1e25dc-c3e7-4b5a-8013-69139e5fa73f"
      },
      "execution_count": 600,
      "outputs": [
        {
          "output_type": "stream",
          "name": "stdout",
          "text": [
            "Root Mean Square Error:\n",
            "0.32821477075185645\n"
          ]
        }
      ]
    },
    {
      "cell_type": "code",
      "source": [],
      "metadata": {
        "id": "s0FVrzngLfqQ"
      },
      "execution_count": 600,
      "outputs": []
    }
  ]
}