{
  "cells": [
    {
      "cell_type": "code",
      "execution_count": 2,
      "metadata": {
        "id": "FZPglvrHaBk6"
      },
      "outputs": [],
      "source": [
        "import pandas as pd\n",
        "import numpy as np\n",
        "\n",
        "from random import *\n",
        "from sklearn.linear_model import LinearRegression\n",
        "from sklearn.model_selection import train_test_split as split_data\n",
        "import math\n",
        "import random\n",
        "from sklearn.preprocessing import StandardScaler\n"
      ]
    },
    {
      "cell_type": "code",
      "execution_count": 3,
      "metadata": {
        "id": "TU0tEomrauq9"
      },
      "outputs": [],
      "source": [
        "dataset = pd.read_csv('china.csv')\n",
        "dataset=dataset.drop(['id'],axis=1)\n",
        "X = dataset.iloc[ : ,   : -1 ].values\n",
        "scaler = StandardScaler()\n",
        "X = scaler.fit_transform(X) \n",
        "\n",
        "Y = dataset.iloc[ : ,-1 ].values\n"
      ]
    },
    {
      "cell_type": "code",
      "execution_count": 4,
      "metadata": {
        "id": "CLBEjoCZetVr"
      },
      "outputs": [],
      "source": [
        "\n",
        "def create_random_matrix(maxrow, maxcol): # Creating a Matrix of 1's and 0's\n",
        "    mymatrix = [ [ None for i in range (maxrow) ] for j in range (maxcol)]\n",
        "    for row_index in range(0, len(mymatrix)):\n",
        "        for col_index in range(0, len(mymatrix[row_index])):\n",
        "            mymatrix[row_index][col_index] = randint(0, 1)\n",
        "    return mymatrix\n",
        "\n",
        "def select_features(matrix,index): # Taking features having value '1' in matrix row\n",
        "    select=[]\n",
        "    for i in range(len(matrix[0])):\n",
        "        if matrix[index][i]==1:\n",
        "          select.append(i)\n",
        "    return select\n",
        "\n",
        "def fitness(matrix,index): # Calculating Fitness of perticular Row in Matrix\n",
        "    X_data=X[:, select_features(matrix,index)]\n",
        "    Y_data=Y \n",
        "    X_train, X_test, Y_train, Y_test = split_data( X_data, Y_data, test_size = 1/4, random_state = 80, shuffle=True) \n",
        "    regressor = LinearRegression()\n",
        "    regressor = regressor.fit(X_train, Y_train)\n",
        "    Y_pred = regressor.predict(X_test)\n",
        "\n",
        "    MSE = np.square(np.subtract(Y_test,Y_pred)).mean() \n",
        "    RMSE = math.sqrt(MSE)\n",
        "    return RMSE\n",
        "\n",
        "def calculate_fitness(matrix,number_of_samples): # Calculating Fitness of Matrix\n",
        "    fitness_values=[]\n",
        "    for i in range(number_of_samples):\n",
        "        fitness_value=fitness(matrix,i)\n",
        "        fitness_values.append(fitness_value)\n",
        "    return fitness_values\n",
        "\n",
        "\n",
        "def min_max(ele_list): # Finding Min and Max index of a List\n",
        "    min_index = 0\n",
        "    max_index = 0\n",
        "    cur_index = 1\n",
        "    while cur_index < len(ele_list):\n",
        "        if ele_list[cur_index] < ele_list[min_index]:\n",
        "            min_index = cur_index\n",
        "        if ele_list[cur_index] > ele_list[max_index]:\n",
        "            max_index= cur_index\n",
        "        cur_index = cur_index + 1\n",
        "\n",
        "    return min_index,max_index\n",
        "\n",
        "def find_best_and_worst(matrix,number_of_samples): # Finding Best and Worst Sample from the Matrix\n",
        "    fitness_values=calculate_fitness(matrix,number_of_samples)\n",
        "    return min_max(fitness_values)\n",
        "\n",
        "def rounding(row):\n",
        "    new_row=[]\n",
        "    for i in range(len(row)):\n",
        "        if row[i]<0.5:\n",
        "            new_row.append(0)\n",
        "        else :\n",
        "            new_row.append(1)\n",
        "    return new_row\n",
        "\n",
        "def best_of_all(matrix,number_of_samples):\n",
        "    fitness_values=calculate_fitness(matrix,number_of_samples)\n",
        "    mn,mx=min_max(fitness_values)\n",
        "    features=[]\n",
        "    for i in range(len(matrix[0])):\n",
        "        if matrix[mn][i]==1:\n",
        "            features.append(i)\n",
        "    return features\n"
      ]
    },
    {
      "cell_type": "code",
      "execution_count": 5,
      "metadata": {
        "colab": {
          "base_uri": "https://localhost:8080/"
        },
        "id": "gnrrc63RS42b",
        "outputId": "0aeaadd2-5cf2-42c0-f984-1d7353272388"
      },
      "outputs": [
        {
          "output_type": "stream",
          "name": "stdout",
          "text": [
            "alpha value : 0.49802879129044364\n",
            "[[0, 0, 1, 0, 1, 0, 1, 0, 1, 1, 0, 1, 0, 1, 1, 1, 1, 0], [0, 0, 0, 0, 0, 1, 1, 1, 0, 1, 1, 1, 0, 1, 0, 1, 1, 0], [0, 0, 0, 1, 1, 0, 0, 0, 0, 0, 0, 1, 0, 1, 1, 0, 1, 0], [0, 1, 0, 0, 1, 0, 0, 0, 1, 1, 0, 1, 1, 0, 0, 0, 1, 1], [0, 1, 0, 0, 1, 0, 1, 0, 1, 0, 1, 1, 0, 1, 1, 0, 0, 0]]\n",
            "best sample : 3  worst sample : 0\n",
            "[[0, 0, 1, 0, 1, 0, 1, 0, 1, 1, 0, 1, 0, 1, 1, 1, 1, 0], [0, 0, 0, 0, 0, 1, 1, 1, 0, 1, 1, 1, 0, 1, 0, 1, 1, 0], [0, 0, 0, 1, 1, 0, 0, 0, 0, 0, 0, 1, 0, 1, 1, 0, 1, 0], [0, 1, 0, 0, 1, 0, 0, 0, 1, 1, 0, 1, 1, 0, 0, 0, 1, 1], [0, 1, 0, 0, 1, 0, 1, 0, 1, 0, 1, 1, 0, 1, 1, 0, 0, 0]]\n",
            "best sample : 3  worst sample : 0\n",
            "[[0, 0, 1, 0, 1, 0, 1, 0, 1, 1, 0, 1, 0, 1, 1, 1, 1, 0], [0, 0, 0, 0, 0, 1, 1, 1, 0, 1, 1, 1, 0, 1, 0, 1, 1, 0], [0, 0, 0, 1, 1, 0, 0, 0, 0, 0, 0, 1, 0, 1, 1, 0, 1, 0], [0, 1, 0, 0, 1, 0, 0, 0, 1, 1, 0, 1, 1, 0, 0, 0, 1, 1], [0, 1, 0, 0, 1, 0, 1, 0, 1, 0, 1, 1, 0, 1, 1, 0, 0, 0]]\n",
            "best sample : 3  worst sample : 0\n",
            "[[0, 0, 1, 0, 1, 0, 1, 0, 1, 1, 0, 1, 0, 1, 1, 1, 1, 0], [0, 0, 0, 0, 0, 1, 1, 1, 0, 1, 1, 1, 0, 1, 0, 1, 1, 0], [0, 0, 0, 1, 1, 0, 0, 0, 0, 0, 0, 1, 0, 1, 1, 0, 1, 0], [0, 1, 0, 0, 1, 0, 0, 0, 1, 1, 0, 1, 1, 0, 0, 0, 1, 1], [0, 1, 0, 0, 1, 0, 1, 0, 1, 0, 1, 1, 0, 1, 1, 0, 0, 0]]\n",
            "best sample : 3  worst sample : 0\n",
            "[[0, 0, 1, 0, 1, 0, 1, 0, 1, 1, 0, 1, 0, 1, 1, 1, 1, 0], [0, 0, 0, 0, 0, 1, 1, 1, 0, 1, 1, 1, 0, 1, 0, 1, 1, 0], [0, 0, 0, 1, 1, 0, 0, 0, 0, 0, 0, 1, 0, 1, 1, 0, 1, 0], [0, 1, 0, 0, 1, 0, 0, 0, 1, 1, 0, 1, 1, 0, 0, 0, 1, 1], [0, 1, 0, 0, 1, 0, 1, 0, 1, 0, 1, 1, 0, 1, 1, 0, 0, 0]]\n",
            "best sample : 3  worst sample : 0\n",
            "[[0, 0, 1, 0, 1, 0, 1, 0, 1, 1, 0, 1, 0, 1, 1, 1, 1, 0], [0, 0, 0, 0, 0, 1, 1, 1, 0, 1, 1, 1, 0, 1, 0, 1, 1, 0], [0, 0, 0, 1, 1, 0, 0, 0, 0, 0, 0, 1, 0, 1, 1, 0, 1, 0], [0, 1, 0, 0, 1, 0, 0, 0, 1, 1, 0, 1, 1, 0, 0, 0, 1, 1], [0, 1, 0, 0, 1, 0, 1, 0, 1, 0, 1, 1, 0, 1, 1, 0, 0, 0]]\n",
            "best sample : 3  worst sample : 0\n",
            "[[0, 0, 1, 0, 1, 0, 1, 0, 1, 1, 0, 1, 0, 1, 1, 1, 1, 0], [0, 0, 0, 0, 0, 1, 1, 1, 0, 1, 1, 1, 0, 1, 0, 1, 1, 0], [0, 0, 0, 1, 1, 0, 0, 0, 0, 0, 0, 1, 0, 1, 1, 0, 1, 0], [0, 1, 0, 0, 1, 0, 0, 0, 1, 1, 0, 1, 1, 0, 0, 0, 1, 1], [0, 1, 0, 0, 1, 0, 1, 0, 1, 0, 1, 1, 0, 1, 1, 0, 0, 0]]\n",
            "best sample : 3  worst sample : 0\n",
            "[[0, 0, 1, 0, 1, 0, 1, 0, 1, 1, 0, 1, 0, 1, 1, 1, 1, 0], [0, 0, 0, 0, 0, 1, 1, 1, 0, 1, 1, 1, 0, 1, 0, 1, 1, 0], [0, 0, 0, 1, 1, 0, 0, 0, 0, 0, 0, 1, 0, 1, 1, 0, 1, 0], [0, 1, 0, 0, 1, 0, 0, 0, 1, 1, 0, 1, 1, 0, 0, 0, 1, 1], [0, 1, 0, 0, 1, 0, 1, 0, 1, 0, 1, 1, 0, 1, 1, 0, 0, 0]]\n",
            "best sample : 3  worst sample : 0\n",
            "[[0, 0, 1, 0, 1, 0, 1, 0, 1, 1, 0, 1, 0, 1, 1, 1, 1, 0], [0, 0, 0, 0, 0, 1, 1, 1, 0, 1, 1, 1, 0, 1, 0, 1, 1, 0], [0, 0, 0, 1, 1, 0, 0, 0, 0, 0, 0, 1, 0, 1, 1, 0, 1, 0], [0, 1, 0, 0, 1, 0, 0, 0, 1, 1, 0, 1, 1, 0, 0, 0, 1, 1], [0, 1, 0, 0, 1, 0, 1, 0, 1, 0, 1, 1, 0, 1, 1, 0, 0, 0]]\n",
            "best sample : 3  worst sample : 0\n",
            "[[0, 0, 1, 0, 1, 0, 1, 0, 1, 1, 0, 1, 0, 1, 1, 1, 1, 0], [0, 0, 0, 0, 0, 1, 1, 1, 0, 1, 1, 1, 0, 1, 0, 1, 1, 0], [0, 0, 0, 1, 1, 0, 0, 0, 0, 0, 0, 1, 0, 1, 1, 0, 1, 0], [0, 1, 0, 0, 1, 0, 0, 0, 1, 1, 0, 1, 1, 0, 0, 0, 1, 1], [0, 1, 0, 0, 1, 0, 1, 0, 1, 0, 1, 1, 0, 1, 1, 0, 0, 0]]\n",
            "best sample : 3  worst sample : 0\n",
            "Best Features are : [1, 4, 8, 9, 11, 12, 16, 17]\n"
          ]
        }
      ],
      "source": [
        "number_of_samples=5\n",
        "matrix=create_random_matrix(X.shape[1],number_of_samples)\n",
        "alpha=random.uniform(0, 1)\n",
        "print(\"alpha value :\",alpha)\n",
        "epochs=10\n",
        "\n",
        "for _ in range(epochs):\n",
        "    print(matrix)\n",
        "    best_index,worst_index=find_best_and_worst(matrix,number_of_samples)\n",
        "    print(\"best sample :\",best_index,\" worst sample :\",worst_index)\n",
        "    #Objective Function :\n",
        "    new_worst=matrix[worst_index]+alpha*(np.array(matrix[best_index])-np.array(matrix[worst_index]))\n",
        "    temp_mat=matrix\n",
        "    temp_mat[worst_index]=rounding(new_worst)\n",
        "    fitness_new=fitness(temp_mat,worst_index)\n",
        "    fitness_old=fitness(matrix,worst_index)\n",
        "    # If new fitness value (Error) is less than old fitness value than Replace the old sample \n",
        "    if fitness_old > fitness_new:\n",
        "        matrix=temp_mat\n",
        "\n",
        "best_sample=best_of_all(matrix,number_of_samples)\n",
        "print(\"Best Features are :\",best_sample)"
      ]
    },
    {
      "cell_type": "code",
      "execution_count": 6,
      "metadata": {
        "colab": {
          "base_uri": "https://localhost:8080/"
        },
        "id": "yQZQipkEi__H",
        "outputId": "d27b6284-fbb1-46d9-95dc-8d1761cb5cba"
      },
      "outputs": [
        {
          "output_type": "stream",
          "name": "stdout",
          "text": [
            "Root mean Sqaured Error 0.14876776766707767\n",
            "MAE error is 0.026444138313206172\n"
          ]
        }
      ],
      "source": [
        "x_data=X[:, best_sample]\n",
        "y_data=Y \n",
        "x_train, x_test, y_train, y_test = split_data( x_data, y_data, test_size = 1/4, shuffle=True) \n",
        "\n",
        "# Linear Regression \n",
        "regressor = LinearRegression()\n",
        "regressor = regressor.fit(x_train, y_train)\n",
        "y_pred = regressor.predict(x_test)\n",
        "# print(y_pred)\n",
        "# print(y_test)\n",
        "\n",
        "# Root mean Sqaured Error\n",
        "MSE = np.square(np.subtract(y_test,y_pred)/np.maximum(np.absolute(y_test),np.absolute(y_pred))).mean() \n",
        "# print(MSE)\n",
        "RMSE = math.sqrt(MSE)\n",
        "print(\"Root mean Sqaured Error\",RMSE)\n",
        "\n",
        "\n",
        "from sklearn.metrics import mean_absolute_error as MAE\n",
        "\n",
        "# Predict and evaluate\n",
        "error = (np.subtract(y_test,y_pred)/np.maximum(np.absolute(y_test),np.absolute(y_pred))).mean()\n",
        "# error = MAE(y_test, y_pred)\n",
        "print(f'MAE error is {error}')"
      ]
    },
    {
      "cell_type": "code",
      "execution_count": 7,
      "metadata": {
        "colab": {
          "base_uri": "https://localhost:8080/"
        },
        "id": "mgCTYt2Kh_TE",
        "outputId": "9c870e36-9729-4bcf-a75f-1b60fbb5f706"
      },
      "outputs": [
        {
          "output_type": "stream",
          "name": "stdout",
          "text": [
            "Root Mean Square Error:\n",
            "\n",
            "0.5942951167129358\n",
            "MAE error is 0.05462562414489884\n"
          ]
        }
      ],
      "source": [
        "# SVM\n",
        "from sklearn.model_selection import train_test_split as split_data\n",
        "X_train, X_test, Y_train, Y_test = split_data(x_data, y_data , test_size = 0.2 , shuffle=True)\n",
        "\n",
        "from sklearn.svm import SVR\n",
        "from sklearn.metrics import accuracy_score\n",
        "svr=SVR() \n",
        "svr.fit(X_train,Y_train)\n",
        "Y_pred=svr.predict(X_test)\n",
        "\n",
        "#Root Mean Squared Error\n",
        "# MSE = np.square(np.subtract(Y_test,Y_pred)).mean() \n",
        "MSE = np.square(np.subtract(Y_test,Y_pred)/np.maximum(np.absolute(Y_test),np.absolute(Y_pred))).mean() \n",
        "RMSE = math.sqrt(MSE)\n",
        "print(\"Root Mean Square Error:\\n\")\n",
        "print(RMSE)\n",
        "\n",
        "# Mean Absolute Error\n",
        "from sklearn.metrics import mean_absolute_error as MAE\n",
        "# error = MAE(Y_test, Y_pred)\n",
        "error = (np.subtract(Y_test,Y_pred)/np.maximum(np.absolute(Y_test),np.absolute(Y_pred))).mean()\n",
        "print(f'MAE error is {error}')"
      ]
    },
    {
      "cell_type": "code",
      "execution_count": 8,
      "metadata": {
        "colab": {
          "base_uri": "https://localhost:8080/"
        },
        "id": "fc9bB-9cUC4O",
        "outputId": "38d9a8cf-0c22-43d1-ad18-6cec7c6059e2"
      },
      "outputs": [
        {
          "output_type": "stream",
          "name": "stdout",
          "text": [
            "MAE error is 0.22089129194683096\n",
            "Root Mean Square Error:\n",
            "0.3108382842506684\n"
          ]
        }
      ],
      "source": [
        "# Random Forest\n",
        "from sklearn.model_selection import train_test_split as split_data\n",
        "x_train, x_test, y_train, y_test = split_data(x_data, y_data, test_size=0.20, shuffle=True)\n",
        "\n",
        "from sklearn.tree import DecisionTreeRegressor\n",
        "from sklearn.ensemble import RandomForestRegressor\n",
        "treeModel = DecisionTreeRegressor(max_depth=5, random_state=None)\n",
        "treeModel.fit(x_train, y_train)\n",
        "model = RandomForestRegressor(max_depth=5, random_state=None,max_features='auto',max_leaf_nodes=5,n_estimators=50, criterion=\"absolute_error\")\n",
        "model.fit(x_train, y_train)\n",
        "y_pred = model.predict(x_test)\n",
        "\n",
        "# Mean Absolute Error\n",
        "from sklearn.metrics import mean_absolute_error as MAE\n",
        "# error = MAE(y_test, y_pred)\n",
        "error = (np.absolute(np.subtract(y_test,y_pred)/np.maximum(np.absolute(y_test),np.absolute(y_pred)))).mean()\n",
        "print(f'MAE error is {error}')\n",
        "\n",
        "# Root Mean Squared Error\n",
        "# MSE = np.square(np.subtract(y_test,y_pred)).mean() \n",
        "\n",
        "MSE = np.square(np.subtract(y_test,y_pred)/np.maximum(np.absolute(y_test),np.absolute(y_pred))).mean() \n",
        "RMSE = math.sqrt(MSE)\n",
        "print(\"Root Mean Square Error:\")\n",
        "print(RMSE)"
      ]
    }
  ],
  "metadata": {
    "colab": {
      "provenance": []
    },
    "kernelspec": {
      "display_name": "Python 3.8.5 32-bit",
      "language": "python",
      "name": "python3"
    },
    "language_info": {
      "name": "python",
      "version": "3.8.5"
    },
    "vscode": {
      "interpreter": {
        "hash": "9363dc131ef194b2f28a3b136b4153138bb891634d04c7d3fc6a2887135a1464"
      }
    }
  },
  "nbformat": 4,
  "nbformat_minor": 0
}