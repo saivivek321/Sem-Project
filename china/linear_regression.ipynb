{
  "nbformat": 4,
  "nbformat_minor": 0,
  "metadata": {
    "colab": {
      "provenance": []
    },
    "kernelspec": {
      "name": "python3",
      "display_name": "Python 3"
    }
  },
  "cells": [
    {
      "cell_type": "markdown",
      "metadata": {
        "id": "l_LulNCC8z96"
      },
      "source": [
        "# Linear Regression"
      ]
    },
    {
      "cell_type": "markdown",
      "metadata": {
        "id": "xpXdowrE9DxW"
      },
      "source": [
        "## Importing the libraries"
      ]
    },
    {
      "cell_type": "code",
      "metadata": {
        "id": "3ja5WYobbofT"
      },
      "source": [
        "import pandas as pd\n",
        "import numpy as np\n",
        "import matplotlib.pyplot as plt\n"
      ],
      "execution_count": 1,
      "outputs": []
    },
    {
      "cell_type": "markdown",
      "metadata": {
        "id": "6JhpWJi59J1p"
      },
      "source": [
        "## Importing the dataset"
      ]
    },
    {
      "cell_type": "code",
      "metadata": {
        "id": "eirEtFLsb1di",
        "colab": {
          "base_uri": "https://localhost:8080/",
          "height": 270
        },
        "outputId": "07861ac6-02e4-4828-8b1f-d671df3ad54d"
      },
      "source": [
        "dataset = pd.read_csv('china.csv')\n",
        "X = dataset.iloc[ : ,   : -1 ].values\n",
        "Y = dataset.iloc[ : , -1 ].values\n",
        "\n",
        "dataset.head()"
      ],
      "execution_count": 2,
      "outputs": [
        {
          "output_type": "execute_result",
          "data": {
            "text/plain": [
              "   id  ID   AFP  Input  Output  Enquiry  File  Interface  Added  Changed  \\\n",
              "0   1   1  1587    774     260      340   128          0   1502        0   \n",
              "1   2   2   260      9       4        3   193         41     51      138   \n",
              "2   3   3   152     25      33       28    42         35    163        0   \n",
              "3   4   4   252    151      28        8    39          0     69      153   \n",
              "4   5   5   292     93       0      194    20          0      0      307   \n",
              "\n",
              "   Deleted  PDR_AFP  PDR_UFP  NPDR_AFP  NPDU_UFP  Resource  Dev.Type  \\\n",
              "0        0      4.7      5.0       4.7       5.0         4         0   \n",
              "1       61     16.0     16.6      16.0      16.6         2         0   \n",
              "2        0      4.4      4.1       4.4       4.1         1         0   \n",
              "3        4     12.8     14.3      15.5      17.3         1         0   \n",
              "4        0     10.3      9.8      12.4      11.7         1         0   \n",
              "\n",
              "   Duration  N_effort  Effort  \n",
              "0       4.0      7490    7490  \n",
              "1      17.0      4150    4150  \n",
              "2       9.0       668     668  \n",
              "3       4.0      3901    3238  \n",
              "4      13.0      3607    2994  "
            ],
            "text/html": [
              "\n",
              "  <div id=\"df-16c1fb0f-653c-4573-be90-c2a1dc342062\">\n",
              "    <div class=\"colab-df-container\">\n",
              "      <div>\n",
              "<style scoped>\n",
              "    .dataframe tbody tr th:only-of-type {\n",
              "        vertical-align: middle;\n",
              "    }\n",
              "\n",
              "    .dataframe tbody tr th {\n",
              "        vertical-align: top;\n",
              "    }\n",
              "\n",
              "    .dataframe thead th {\n",
              "        text-align: right;\n",
              "    }\n",
              "</style>\n",
              "<table border=\"1\" class=\"dataframe\">\n",
              "  <thead>\n",
              "    <tr style=\"text-align: right;\">\n",
              "      <th></th>\n",
              "      <th>id</th>\n",
              "      <th>ID</th>\n",
              "      <th>AFP</th>\n",
              "      <th>Input</th>\n",
              "      <th>Output</th>\n",
              "      <th>Enquiry</th>\n",
              "      <th>File</th>\n",
              "      <th>Interface</th>\n",
              "      <th>Added</th>\n",
              "      <th>Changed</th>\n",
              "      <th>Deleted</th>\n",
              "      <th>PDR_AFP</th>\n",
              "      <th>PDR_UFP</th>\n",
              "      <th>NPDR_AFP</th>\n",
              "      <th>NPDU_UFP</th>\n",
              "      <th>Resource</th>\n",
              "      <th>Dev.Type</th>\n",
              "      <th>Duration</th>\n",
              "      <th>N_effort</th>\n",
              "      <th>Effort</th>\n",
              "    </tr>\n",
              "  </thead>\n",
              "  <tbody>\n",
              "    <tr>\n",
              "      <th>0</th>\n",
              "      <td>1</td>\n",
              "      <td>1</td>\n",
              "      <td>1587</td>\n",
              "      <td>774</td>\n",
              "      <td>260</td>\n",
              "      <td>340</td>\n",
              "      <td>128</td>\n",
              "      <td>0</td>\n",
              "      <td>1502</td>\n",
              "      <td>0</td>\n",
              "      <td>0</td>\n",
              "      <td>4.7</td>\n",
              "      <td>5.0</td>\n",
              "      <td>4.7</td>\n",
              "      <td>5.0</td>\n",
              "      <td>4</td>\n",
              "      <td>0</td>\n",
              "      <td>4.0</td>\n",
              "      <td>7490</td>\n",
              "      <td>7490</td>\n",
              "    </tr>\n",
              "    <tr>\n",
              "      <th>1</th>\n",
              "      <td>2</td>\n",
              "      <td>2</td>\n",
              "      <td>260</td>\n",
              "      <td>9</td>\n",
              "      <td>4</td>\n",
              "      <td>3</td>\n",
              "      <td>193</td>\n",
              "      <td>41</td>\n",
              "      <td>51</td>\n",
              "      <td>138</td>\n",
              "      <td>61</td>\n",
              "      <td>16.0</td>\n",
              "      <td>16.6</td>\n",
              "      <td>16.0</td>\n",
              "      <td>16.6</td>\n",
              "      <td>2</td>\n",
              "      <td>0</td>\n",
              "      <td>17.0</td>\n",
              "      <td>4150</td>\n",
              "      <td>4150</td>\n",
              "    </tr>\n",
              "    <tr>\n",
              "      <th>2</th>\n",
              "      <td>3</td>\n",
              "      <td>3</td>\n",
              "      <td>152</td>\n",
              "      <td>25</td>\n",
              "      <td>33</td>\n",
              "      <td>28</td>\n",
              "      <td>42</td>\n",
              "      <td>35</td>\n",
              "      <td>163</td>\n",
              "      <td>0</td>\n",
              "      <td>0</td>\n",
              "      <td>4.4</td>\n",
              "      <td>4.1</td>\n",
              "      <td>4.4</td>\n",
              "      <td>4.1</td>\n",
              "      <td>1</td>\n",
              "      <td>0</td>\n",
              "      <td>9.0</td>\n",
              "      <td>668</td>\n",
              "      <td>668</td>\n",
              "    </tr>\n",
              "    <tr>\n",
              "      <th>3</th>\n",
              "      <td>4</td>\n",
              "      <td>4</td>\n",
              "      <td>252</td>\n",
              "      <td>151</td>\n",
              "      <td>28</td>\n",
              "      <td>8</td>\n",
              "      <td>39</td>\n",
              "      <td>0</td>\n",
              "      <td>69</td>\n",
              "      <td>153</td>\n",
              "      <td>4</td>\n",
              "      <td>12.8</td>\n",
              "      <td>14.3</td>\n",
              "      <td>15.5</td>\n",
              "      <td>17.3</td>\n",
              "      <td>1</td>\n",
              "      <td>0</td>\n",
              "      <td>4.0</td>\n",
              "      <td>3901</td>\n",
              "      <td>3238</td>\n",
              "    </tr>\n",
              "    <tr>\n",
              "      <th>4</th>\n",
              "      <td>5</td>\n",
              "      <td>5</td>\n",
              "      <td>292</td>\n",
              "      <td>93</td>\n",
              "      <td>0</td>\n",
              "      <td>194</td>\n",
              "      <td>20</td>\n",
              "      <td>0</td>\n",
              "      <td>0</td>\n",
              "      <td>307</td>\n",
              "      <td>0</td>\n",
              "      <td>10.3</td>\n",
              "      <td>9.8</td>\n",
              "      <td>12.4</td>\n",
              "      <td>11.7</td>\n",
              "      <td>1</td>\n",
              "      <td>0</td>\n",
              "      <td>13.0</td>\n",
              "      <td>3607</td>\n",
              "      <td>2994</td>\n",
              "    </tr>\n",
              "  </tbody>\n",
              "</table>\n",
              "</div>\n",
              "      <button class=\"colab-df-convert\" onclick=\"convertToInteractive('df-16c1fb0f-653c-4573-be90-c2a1dc342062')\"\n",
              "              title=\"Convert this dataframe to an interactive table.\"\n",
              "              style=\"display:none;\">\n",
              "        \n",
              "  <svg xmlns=\"http://www.w3.org/2000/svg\" height=\"24px\"viewBox=\"0 0 24 24\"\n",
              "       width=\"24px\">\n",
              "    <path d=\"M0 0h24v24H0V0z\" fill=\"none\"/>\n",
              "    <path d=\"M18.56 5.44l.94 2.06.94-2.06 2.06-.94-2.06-.94-.94-2.06-.94 2.06-2.06.94zm-11 1L8.5 8.5l.94-2.06 2.06-.94-2.06-.94L8.5 2.5l-.94 2.06-2.06.94zm10 10l.94 2.06.94-2.06 2.06-.94-2.06-.94-.94-2.06-.94 2.06-2.06.94z\"/><path d=\"M17.41 7.96l-1.37-1.37c-.4-.4-.92-.59-1.43-.59-.52 0-1.04.2-1.43.59L10.3 9.45l-7.72 7.72c-.78.78-.78 2.05 0 2.83L4 21.41c.39.39.9.59 1.41.59.51 0 1.02-.2 1.41-.59l7.78-7.78 2.81-2.81c.8-.78.8-2.07 0-2.86zM5.41 20L4 18.59l7.72-7.72 1.47 1.35L5.41 20z\"/>\n",
              "  </svg>\n",
              "      </button>\n",
              "      \n",
              "  <style>\n",
              "    .colab-df-container {\n",
              "      display:flex;\n",
              "      flex-wrap:wrap;\n",
              "      gap: 12px;\n",
              "    }\n",
              "\n",
              "    .colab-df-convert {\n",
              "      background-color: #E8F0FE;\n",
              "      border: none;\n",
              "      border-radius: 50%;\n",
              "      cursor: pointer;\n",
              "      display: none;\n",
              "      fill: #1967D2;\n",
              "      height: 32px;\n",
              "      padding: 0 0 0 0;\n",
              "      width: 32px;\n",
              "    }\n",
              "\n",
              "    .colab-df-convert:hover {\n",
              "      background-color: #E2EBFA;\n",
              "      box-shadow: 0px 1px 2px rgba(60, 64, 67, 0.3), 0px 1px 3px 1px rgba(60, 64, 67, 0.15);\n",
              "      fill: #174EA6;\n",
              "    }\n",
              "\n",
              "    [theme=dark] .colab-df-convert {\n",
              "      background-color: #3B4455;\n",
              "      fill: #D2E3FC;\n",
              "    }\n",
              "\n",
              "    [theme=dark] .colab-df-convert:hover {\n",
              "      background-color: #434B5C;\n",
              "      box-shadow: 0px 1px 3px 1px rgba(0, 0, 0, 0.15);\n",
              "      filter: drop-shadow(0px 1px 2px rgba(0, 0, 0, 0.3));\n",
              "      fill: #FFFFFF;\n",
              "    }\n",
              "  </style>\n",
              "\n",
              "      <script>\n",
              "        const buttonEl =\n",
              "          document.querySelector('#df-16c1fb0f-653c-4573-be90-c2a1dc342062 button.colab-df-convert');\n",
              "        buttonEl.style.display =\n",
              "          google.colab.kernel.accessAllowed ? 'block' : 'none';\n",
              "\n",
              "        async function convertToInteractive(key) {\n",
              "          const element = document.querySelector('#df-16c1fb0f-653c-4573-be90-c2a1dc342062');\n",
              "          const dataTable =\n",
              "            await google.colab.kernel.invokeFunction('convertToInteractive',\n",
              "                                                     [key], {});\n",
              "          if (!dataTable) return;\n",
              "\n",
              "          const docLinkHtml = 'Like what you see? Visit the ' +\n",
              "            '<a target=\"_blank\" href=https://colab.research.google.com/notebooks/data_table.ipynb>data table notebook</a>'\n",
              "            + ' to learn more about interactive tables.';\n",
              "          element.innerHTML = '';\n",
              "          dataTable['output_type'] = 'display_data';\n",
              "          await google.colab.output.renderOutput(dataTable, element);\n",
              "          const docLink = document.createElement('div');\n",
              "          docLink.innerHTML = docLinkHtml;\n",
              "          element.appendChild(docLink);\n",
              "        }\n",
              "      </script>\n",
              "    </div>\n",
              "  </div>\n",
              "  "
            ]
          },
          "metadata": {},
          "execution_count": 2
        }
      ]
    },
    {
      "cell_type": "markdown",
      "metadata": {
        "id": "AyhQaTwP9RzG"
      },
      "source": [
        "## Splitting the dataset into the Training set and Test set"
      ]
    },
    {
      "cell_type": "code",
      "metadata": {
        "id": "2Vug9h3Xca71"
      },
      "source": [
        "from sklearn.model_selection import train_test_split\n",
        "X_train, X_test, Y_train, Y_test = train_test_split( X, Y, test_size = 1/4, shuffle=True) "
      ],
      "execution_count": 3,
      "outputs": []
    },
    {
      "cell_type": "markdown",
      "metadata": {
        "id": "ZijQwFMQ9itx"
      },
      "source": [
        "## Training the Simple Linear Regression model on the Training set"
      ]
    },
    {
      "cell_type": "code",
      "metadata": {
        "id": "ixumy14YeeAd"
      },
      "source": [
        "from sklearn.linear_model import LinearRegression\n",
        "regressor = LinearRegression()\n",
        "regressor = regressor.fit(X_train, Y_train)"
      ],
      "execution_count": 4,
      "outputs": []
    },
    {
      "cell_type": "markdown",
      "metadata": {
        "id": "wa2T1Lq89o5H"
      },
      "source": [
        "## Predicting the Test set results"
      ]
    },
    {
      "cell_type": "code",
      "metadata": {
        "id": "UQIVnlaagKon",
        "colab": {
          "base_uri": "https://localhost:8080/"
        },
        "outputId": "4165ff00-4ca1-40e5-901c-8db88de6e082"
      },
      "source": [
        "Y_pred = regressor.predict(X_test)\n",
        "print(Y_test)\n",
        "print(\"____________________________________\")\n",
        "print(Y_pred)"
      ],
      "execution_count": 5,
      "outputs": [
        {
          "output_type": "stream",
          "name": "stdout",
          "text": [
            "[ 2600   563  2326   140  3655   691  4622  1049  1265   305  2683  1158\n",
            "   404   300  5532  9296  2933  1167  3995   973  1586  3372  1440   374\n",
            "   338  1788 16788  1200   580  7060   114    80   176  1035  6844 54620\n",
            "   328  3006   391   950  2515  1248  1512   687  9720  1278   338  1383\n",
            "  2533   774  8549  9094   129   619   976   183  1211  2551   700   191\n",
            "   553   742   780   909   579   705  2988 15165  7443  3711  2791   334\n",
            " 25217   827   436    89  4266  1896   906   281  1313  3287   481  1293\n",
            "   211 36046  3532  1817  1262   789  1984  1801  1246  3500 10080   311\n",
            "  2362   341  1724   483   239  1464  1708  3214  1538  3986  5732  2890\n",
            "  2019  3368   762  2521   941  2014   354  2109 16179  1785  1333  1186\n",
            "   387   736  5078  2597  1930]\n",
            "____________________________________\n",
            "[ 2.88745789e+03  7.31707729e+02  1.84100293e+03  1.29625086e+02\n",
            "  3.83806855e+03  5.23074536e+02  4.84011766e+03  1.26358052e+03\n",
            "  1.49803803e+03  2.54057999e+01  2.55610802e+03  1.34678433e+03\n",
            "  3.01151634e+02  3.17155107e+02  5.65071188e+03  8.88716349e+03\n",
            "  3.04039780e+03  1.16721281e+03  5.94927760e+03  9.06580349e+02\n",
            "  1.61976008e+03  1.91448112e+03  1.56503610e+03  9.26340671e+01\n",
            "  2.06260627e+02  2.12273319e+03  1.60396795e+04  1.41010903e+03\n",
            "  1.45441922e+03  7.13488800e+03  6.09894693e+01 -1.10607374e+02\n",
            "  1.17215273e+02  1.14297529e+03  7.12681849e+03  5.73451323e+04\n",
            "  2.84286262e+02  4.00153542e+03  2.40819485e+02  1.12493495e+03\n",
            "  2.10001915e+03  1.11171444e+03  1.59833723e+03  3.64599240e+02\n",
            "  9.61908056e+03  1.30816770e+03  5.01967383e+02  1.26704790e+03\n",
            "  2.46641782e+03  6.61972377e+02  8.75449920e+03  1.12174514e+04\n",
            " -2.99085974e+01  5.85093877e+02  9.99533759e+02 -4.28753618e+01\n",
            "  9.09257721e+02  2.43494813e+03  6.78510584e+02  3.41380448e+02\n",
            "  6.22112570e+02  6.62408705e+02  1.19207481e+03  7.15813549e+02\n",
            "  4.13508103e+02  6.34013715e+02  3.22598352e+03  1.46203587e+04\n",
            "  7.69073928e+03  3.59616065e+03  3.25924919e+03  2.32024959e+02\n",
            "  2.70816776e+04  5.25306002e+02 -4.77970608e+00 -2.29148997e+02\n",
            "  5.72571638e+03  1.87818554e+03  7.76050617e+02  2.52027457e+02\n",
            "  1.15377358e+03  3.42859573e+03  2.10134078e+02  1.04756472e+03\n",
            "  8.24633098e+02  3.22105694e+04  3.83661034e+03  1.94842712e+03\n",
            "  1.28456361e+03  6.21920256e+02  1.84670505e+03  1.79869118e+03\n",
            "  6.17340834e+02  3.44265682e+03  1.02624752e+04  1.71717013e+02\n",
            "  2.32239685e+03  2.17911859e+02  2.75241377e+03  3.22269222e+02\n",
            "  1.08607352e+03  1.57087644e+03  1.83458487e+03  3.02887164e+03\n",
            "  1.94869898e+03  5.81960461e+03  5.60221894e+03  2.76614222e+03\n",
            "  1.97700038e+03  3.98257804e+03  2.70853216e+03  2.32239232e+03\n",
            "  7.46822961e+02  2.15227131e+03  4.88176914e+02  2.54312176e+03\n",
            "  1.51777930e+04  1.62117771e+03  1.06465500e+03  9.54389899e+02\n",
            "  2.38840071e+02  7.72267350e+02  5.01920984e+03  2.53274782e+03\n",
            "  1.77216269e+03]\n"
          ]
        }
      ]
    },
    {
      "cell_type": "markdown",
      "source": [
        "Mean Absolute Error"
      ],
      "metadata": {
        "id": "kqgwNIsI_xNK"
      }
    },
    {
      "cell_type": "code",
      "source": [
        "from sklearn.metrics import mean_absolute_error as MAE\n",
        "\n",
        "# Predict and evaluate\n",
        "Y_pred = regressor.predict(X_test)\n",
        "error = (np.subtract(Y_test,Y_pred)/np.maximum(np.absolute(Y_test),np.absolute(Y_pred))).mean()\n",
        "print(f'MAE error is {error}')"
      ],
      "metadata": {
        "colab": {
          "base_uri": "https://localhost:8080/"
        },
        "id": "0wCQLiBpm1Li",
        "outputId": "5e9e3534-1b7c-4173-c70c-4666ba78edd1"
      },
      "execution_count": 6,
      "outputs": [
        {
          "output_type": "stream",
          "name": "stdout",
          "text": [
            "MAE error is 0.0770699950666766\n"
          ]
        }
      ]
    },
    {
      "cell_type": "markdown",
      "source": [
        "Root Mean Square Error"
      ],
      "metadata": {
        "id": "PxBfqQ4k_evj"
      }
    },
    {
      "cell_type": "code",
      "source": [
        "import math\n",
        "MSE = np.square(np.subtract(Y_test,Y_pred)/np.maximum(np.absolute(Y_test),np.absolute(Y_pred))).mean() \n",
        " \n",
        "RMSE = math.sqrt(MSE)\n",
        "print(\"Root Mean Square Error:\\n\")\n",
        "print(RMSE)"
      ],
      "metadata": {
        "id": "XIvpeHYX_aab",
        "colab": {
          "base_uri": "https://localhost:8080/"
        },
        "outputId": "b6509a23-ca28-45ea-a4d9-10bc699d65f0"
      },
      "execution_count": 7,
      "outputs": [
        {
          "output_type": "stream",
          "name": "stdout",
          "text": [
            "Root Mean Square Error:\n",
            "\n",
            "0.36908490132771277\n"
          ]
        }
      ]
    }
  ]
}