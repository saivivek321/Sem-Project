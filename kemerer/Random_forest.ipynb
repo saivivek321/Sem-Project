{
  "nbformat": 4,
  "nbformat_minor": 0,
  "metadata": {
    "colab": {
      "provenance": []
    },
    "kernelspec": {
      "name": "python3",
      "display_name": "Python 3"
    },
    "language_info": {
      "name": "python"
    }
  },
  "cells": [
    {
      "cell_type": "code",
      "execution_count": 691,
      "metadata": {
        "id": "5wEqBs1EJKez"
      },
      "outputs": [],
      "source": [
        "import matplotlib.pyplot as plt\n",
        "%matplotlib inline\n",
        "import pandas as pd\n",
        "import numpy as np"
      ]
    },
    {
      "cell_type": "code",
      "source": [
        "# Import make_regression method to generate artificial data samples \n",
        "from sklearn.datasets import make_regression"
      ],
      "metadata": {
        "id": "-tGMwY7DJk5u"
      },
      "execution_count": 692,
      "outputs": []
    },
    {
      "cell_type": "code",
      "source": [
        "data = pd.read_csv('kemerer.csv')"
      ],
      "metadata": {
        "id": "xz0yEEP1LCHM"
      },
      "execution_count": 693,
      "outputs": []
    },
    {
      "cell_type": "code",
      "source": [
        "del data['id']\n",
        "data.head()"
      ],
      "metadata": {
        "colab": {
          "base_uri": "https://localhost:8080/",
          "height": 206
        },
        "id": "_3aYCRWSLIBf",
        "outputId": "e3726e66-5f7d-467a-afe6-a095fab3f66d"
      },
      "execution_count": 694,
      "outputs": [
        {
          "output_type": "execute_result",
          "data": {
            "text/plain": [
              "   ID  Language  Hardware  Duration  KSLOC   AdjFP  RAWFP  EffortMM\n",
              "0   1         1         1        17  253.6  1217.1   1010    287.00\n",
              "1   2         1         2         7   40.5   507.3    457     82.50\n",
              "2   3         1         3        15  450.0  2306.8   2284   1107.31\n",
              "3   4         1         1        18  214.4   788.5    881     86.90\n",
              "4   5         1         2        13  449.9  1337.6   1583    336.30"
            ],
            "text/html": [
              "\n",
              "  <div id=\"df-daa44028-0ae5-4d6e-9bbf-a230718cf144\">\n",
              "    <div class=\"colab-df-container\">\n",
              "      <div>\n",
              "<style scoped>\n",
              "    .dataframe tbody tr th:only-of-type {\n",
              "        vertical-align: middle;\n",
              "    }\n",
              "\n",
              "    .dataframe tbody tr th {\n",
              "        vertical-align: top;\n",
              "    }\n",
              "\n",
              "    .dataframe thead th {\n",
              "        text-align: right;\n",
              "    }\n",
              "</style>\n",
              "<table border=\"1\" class=\"dataframe\">\n",
              "  <thead>\n",
              "    <tr style=\"text-align: right;\">\n",
              "      <th></th>\n",
              "      <th>ID</th>\n",
              "      <th>Language</th>\n",
              "      <th>Hardware</th>\n",
              "      <th>Duration</th>\n",
              "      <th>KSLOC</th>\n",
              "      <th>AdjFP</th>\n",
              "      <th>RAWFP</th>\n",
              "      <th>EffortMM</th>\n",
              "    </tr>\n",
              "  </thead>\n",
              "  <tbody>\n",
              "    <tr>\n",
              "      <th>0</th>\n",
              "      <td>1</td>\n",
              "      <td>1</td>\n",
              "      <td>1</td>\n",
              "      <td>17</td>\n",
              "      <td>253.6</td>\n",
              "      <td>1217.1</td>\n",
              "      <td>1010</td>\n",
              "      <td>287.00</td>\n",
              "    </tr>\n",
              "    <tr>\n",
              "      <th>1</th>\n",
              "      <td>2</td>\n",
              "      <td>1</td>\n",
              "      <td>2</td>\n",
              "      <td>7</td>\n",
              "      <td>40.5</td>\n",
              "      <td>507.3</td>\n",
              "      <td>457</td>\n",
              "      <td>82.50</td>\n",
              "    </tr>\n",
              "    <tr>\n",
              "      <th>2</th>\n",
              "      <td>3</td>\n",
              "      <td>1</td>\n",
              "      <td>3</td>\n",
              "      <td>15</td>\n",
              "      <td>450.0</td>\n",
              "      <td>2306.8</td>\n",
              "      <td>2284</td>\n",
              "      <td>1107.31</td>\n",
              "    </tr>\n",
              "    <tr>\n",
              "      <th>3</th>\n",
              "      <td>4</td>\n",
              "      <td>1</td>\n",
              "      <td>1</td>\n",
              "      <td>18</td>\n",
              "      <td>214.4</td>\n",
              "      <td>788.5</td>\n",
              "      <td>881</td>\n",
              "      <td>86.90</td>\n",
              "    </tr>\n",
              "    <tr>\n",
              "      <th>4</th>\n",
              "      <td>5</td>\n",
              "      <td>1</td>\n",
              "      <td>2</td>\n",
              "      <td>13</td>\n",
              "      <td>449.9</td>\n",
              "      <td>1337.6</td>\n",
              "      <td>1583</td>\n",
              "      <td>336.30</td>\n",
              "    </tr>\n",
              "  </tbody>\n",
              "</table>\n",
              "</div>\n",
              "      <button class=\"colab-df-convert\" onclick=\"convertToInteractive('df-daa44028-0ae5-4d6e-9bbf-a230718cf144')\"\n",
              "              title=\"Convert this dataframe to an interactive table.\"\n",
              "              style=\"display:none;\">\n",
              "        \n",
              "  <svg xmlns=\"http://www.w3.org/2000/svg\" height=\"24px\"viewBox=\"0 0 24 24\"\n",
              "       width=\"24px\">\n",
              "    <path d=\"M0 0h24v24H0V0z\" fill=\"none\"/>\n",
              "    <path d=\"M18.56 5.44l.94 2.06.94-2.06 2.06-.94-2.06-.94-.94-2.06-.94 2.06-2.06.94zm-11 1L8.5 8.5l.94-2.06 2.06-.94-2.06-.94L8.5 2.5l-.94 2.06-2.06.94zm10 10l.94 2.06.94-2.06 2.06-.94-2.06-.94-.94-2.06-.94 2.06-2.06.94z\"/><path d=\"M17.41 7.96l-1.37-1.37c-.4-.4-.92-.59-1.43-.59-.52 0-1.04.2-1.43.59L10.3 9.45l-7.72 7.72c-.78.78-.78 2.05 0 2.83L4 21.41c.39.39.9.59 1.41.59.51 0 1.02-.2 1.41-.59l7.78-7.78 2.81-2.81c.8-.78.8-2.07 0-2.86zM5.41 20L4 18.59l7.72-7.72 1.47 1.35L5.41 20z\"/>\n",
              "  </svg>\n",
              "      </button>\n",
              "      \n",
              "  <style>\n",
              "    .colab-df-container {\n",
              "      display:flex;\n",
              "      flex-wrap:wrap;\n",
              "      gap: 12px;\n",
              "    }\n",
              "\n",
              "    .colab-df-convert {\n",
              "      background-color: #E8F0FE;\n",
              "      border: none;\n",
              "      border-radius: 50%;\n",
              "      cursor: pointer;\n",
              "      display: none;\n",
              "      fill: #1967D2;\n",
              "      height: 32px;\n",
              "      padding: 0 0 0 0;\n",
              "      width: 32px;\n",
              "    }\n",
              "\n",
              "    .colab-df-convert:hover {\n",
              "      background-color: #E2EBFA;\n",
              "      box-shadow: 0px 1px 2px rgba(60, 64, 67, 0.3), 0px 1px 3px 1px rgba(60, 64, 67, 0.15);\n",
              "      fill: #174EA6;\n",
              "    }\n",
              "\n",
              "    [theme=dark] .colab-df-convert {\n",
              "      background-color: #3B4455;\n",
              "      fill: #D2E3FC;\n",
              "    }\n",
              "\n",
              "    [theme=dark] .colab-df-convert:hover {\n",
              "      background-color: #434B5C;\n",
              "      box-shadow: 0px 1px 3px 1px rgba(0, 0, 0, 0.15);\n",
              "      filter: drop-shadow(0px 1px 2px rgba(0, 0, 0, 0.3));\n",
              "      fill: #FFFFFF;\n",
              "    }\n",
              "  </style>\n",
              "\n",
              "      <script>\n",
              "        const buttonEl =\n",
              "          document.querySelector('#df-daa44028-0ae5-4d6e-9bbf-a230718cf144 button.colab-df-convert');\n",
              "        buttonEl.style.display =\n",
              "          google.colab.kernel.accessAllowed ? 'block' : 'none';\n",
              "\n",
              "        async function convertToInteractive(key) {\n",
              "          const element = document.querySelector('#df-daa44028-0ae5-4d6e-9bbf-a230718cf144');\n",
              "          const dataTable =\n",
              "            await google.colab.kernel.invokeFunction('convertToInteractive',\n",
              "                                                     [key], {});\n",
              "          if (!dataTable) return;\n",
              "\n",
              "          const docLinkHtml = 'Like what you see? Visit the ' +\n",
              "            '<a target=\"_blank\" href=https://colab.research.google.com/notebooks/data_table.ipynb>data table notebook</a>'\n",
              "            + ' to learn more about interactive tables.';\n",
              "          element.innerHTML = '';\n",
              "          dataTable['output_type'] = 'display_data';\n",
              "          await google.colab.output.renderOutput(dataTable, element);\n",
              "          const docLink = document.createElement('div');\n",
              "          docLink.innerHTML = docLinkHtml;\n",
              "          element.appendChild(docLink);\n",
              "        }\n",
              "      </script>\n",
              "    </div>\n",
              "  </div>\n",
              "  "
            ]
          },
          "metadata": {},
          "execution_count": 694
        }
      ]
    },
    {
      "cell_type": "code",
      "source": [
        "x = data.iloc[:, :-1]\n",
        "y = data.iloc[:, -1]\n",
        "from sklearn.preprocessing import StandardScaler\n",
        "scaler = StandardScaler()\n",
        "x = scaler.fit_transform(x)\n",
        "print(x.shape)\n",
        "print(\"-------------------------\")\n",
        "print(y.shape)"
      ],
      "metadata": {
        "colab": {
          "base_uri": "https://localhost:8080/"
        },
        "id": "VWOEpFGMLISg",
        "outputId": "2e3acf88-795c-4167-b264-ae90dbf3a64c"
      },
      "execution_count": 695,
      "outputs": [
        {
          "output_type": "stream",
          "name": "stdout",
          "text": [
            "(15, 7)\n",
            "-------------------------\n",
            "(15,)\n"
          ]
        }
      ]
    },
    {
      "cell_type": "code",
      "source": [
        "from sklearn.model_selection import train_test_split as split_data\n",
        "x_train, x_test, y_train, y_test = split_data(x, y, test_size=0.20, shuffle=True)\n",
        "print(x_train.shape, x_test.shape, y_train.shape, y_test.shape)"
      ],
      "metadata": {
        "colab": {
          "base_uri": "https://localhost:8080/"
        },
        "id": "ETmEL4DjDXEC",
        "outputId": "5ace0ebf-3bc1-406e-a31d-802352733838"
      },
      "execution_count": 696,
      "outputs": [
        {
          "output_type": "stream",
          "name": "stdout",
          "text": [
            "(12, 7) (3, 7) (12,) (3,)\n"
          ]
        }
      ]
    },
    {
      "cell_type": "code",
      "source": [
        "from sklearn.tree import DecisionTreeRegressor\n",
        "treeModel = DecisionTreeRegressor(max_depth=5, random_state=None)"
      ],
      "metadata": {
        "id": "s_T5zqsLJtZb"
      },
      "execution_count": 697,
      "outputs": []
    },
    {
      "cell_type": "code",
      "source": [
        "treeModel.fit(x_train, y_train)"
      ],
      "metadata": {
        "colab": {
          "base_uri": "https://localhost:8080/"
        },
        "id": "T1WYmRM-JvI9",
        "outputId": "c5dd85b8-7079-4544-f464-6f16fa414c0a"
      },
      "execution_count": 698,
      "outputs": [
        {
          "output_type": "execute_result",
          "data": {
            "text/plain": [
              "DecisionTreeRegressor(max_depth=5)"
            ]
          },
          "metadata": {},
          "execution_count": 698
        }
      ]
    },
    {
      "cell_type": "code",
      "source": [
        "print(\"Regression coefficient:\",treeModel.score(x_train,y_train))"
      ],
      "metadata": {
        "colab": {
          "base_uri": "https://localhost:8080/"
        },
        "id": "YjbBbXxsJzVW",
        "outputId": "93d08dd6-16ab-49ec-ef26-c03be67b009b"
      },
      "execution_count": 699,
      "outputs": [
        {
          "output_type": "stream",
          "name": "stdout",
          "text": [
            "Regression coefficient: 0.9995464980799688\n"
          ]
        }
      ]
    },
    {
      "cell_type": "code",
      "source": [
        "from sklearn.ensemble import RandomForestRegressor"
      ],
      "metadata": {
        "id": "YZtPdWYmJ2eP"
      },
      "execution_count": 700,
      "outputs": []
    },
    {
      "cell_type": "code",
      "source": [
        "model = RandomForestRegressor(max_depth=5, random_state=None,max_features='auto',max_leaf_nodes=5,n_estimators=50, criterion=\"absolute_error\")\n",
        "model.fit(x_train, y_train)"
      ],
      "metadata": {
        "colab": {
          "base_uri": "https://localhost:8080/"
        },
        "id": "-kjEYqe9MiGf",
        "outputId": "680b8f3c-e8c5-425f-a890-26ff3d6b9445"
      },
      "execution_count": 701,
      "outputs": [
        {
          "output_type": "execute_result",
          "data": {
            "text/plain": [
              "RandomForestRegressor(criterion='absolute_error', max_depth=5, max_leaf_nodes=5,\n",
              "                      n_estimators=50)"
            ]
          },
          "metadata": {},
          "execution_count": 701
        }
      ]
    },
    {
      "cell_type": "code",
      "source": [
        "print(\"Regression coefficient:\",model.score(x_train,y_train))"
      ],
      "metadata": {
        "colab": {
          "base_uri": "https://localhost:8080/"
        },
        "id": "vFoNebLlMm8h",
        "outputId": "44428bc7-2f6f-424e-b214-f0009d9c8823"
      },
      "execution_count": 702,
      "outputs": [
        {
          "output_type": "stream",
          "name": "stdout",
          "text": [
            "Regression coefficient: 0.8826610444103125\n"
          ]
        }
      ]
    },
    {
      "cell_type": "code",
      "source": [
        "y_pred = model.predict(x_test)\n",
        "print(y_pred)\n",
        "print(\"-------------------------------\")\n",
        "print(y_test)"
      ],
      "metadata": {
        "id": "N8MqqPzNMpOe",
        "colab": {
          "base_uri": "https://localhost:8080/"
        },
        "outputId": "979b1ecd-8203-4726-de2f-949ced8e3122"
      },
      "execution_count": 703,
      "outputs": [
        {
          "output_type": "stream",
          "name": "stdout",
          "text": [
            "[230.7442 102.9342 193.551 ]\n",
            "-------------------------------\n",
            "3     86.9\n",
            "6     23.2\n",
            "14    69.9\n",
            "Name: EffortMM, dtype: float64\n"
          ]
        }
      ]
    },
    {
      "cell_type": "code",
      "source": [
        "#np.mean(abs(np.array(y_pred)-np.array(y_test)))/np.sum(y_pred)\n",
        "\n",
        "# Mean Absolute Error\n",
        "from sklearn.metrics import mean_absolute_error as MAE\n",
        "# error = MAE(y_test, y_pred)\n",
        "error = (np.absolute(np.subtract(y_test,y_pred)/np.maximum(np.absolute(y_test),np.absolute(y_pred)))).mean()\n",
        "print(f'MAE error is {error}')"
      ],
      "metadata": {
        "colab": {
          "base_uri": "https://localhost:8080/"
        },
        "id": "25bZaxB7FfEa",
        "outputId": "44857596-6047-48e2-d3c0-73e17537c6d7"
      },
      "execution_count": 704,
      "outputs": [
        {
          "output_type": "stream",
          "name": "stdout",
          "text": [
            "MAE error is 0.6789535520267712\n"
          ]
        }
      ]
    },
    {
      "cell_type": "code",
      "source": [
        "import math\n",
        "# MSE = np.square(np.subtract(y_test,y_pred)).mean() \n",
        "# print(MSE)\n",
        " \n",
        "# RMSE = math.sqrt(MSE)\n",
        "# print(\"Root Mean Square Error:\\n\")\n",
        "# print(RMSE)\n",
        "\n",
        "\n",
        "\n",
        "MSE = np.square(np.subtract(y_test,y_pred)/np.maximum(np.absolute(y_test),np.absolute(y_pred))).mean() \n",
        "RMSE = math.sqrt(MSE)\n",
        "print(\"Root Mean Square Error:\")\n",
        "print(RMSE)"
      ],
      "metadata": {
        "colab": {
          "base_uri": "https://localhost:8080/"
        },
        "id": "FZl0o8kJFpHZ",
        "outputId": "661b387b-153c-47c0-bf5f-0b756244057c"
      },
      "execution_count": 705,
      "outputs": [
        {
          "output_type": "stream",
          "name": "stdout",
          "text": [
            "Root Mean Square Error:\n",
            "0.6823438772145504\n"
          ]
        }
      ]
    },
    {
      "cell_type": "code",
      "source": [],
      "metadata": {
        "id": "s0FVrzngLfqQ"
      },
      "execution_count": 705,
      "outputs": []
    }
  ]
}