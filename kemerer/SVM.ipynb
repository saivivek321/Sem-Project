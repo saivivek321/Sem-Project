{
  "nbformat": 4,
  "nbformat_minor": 0,
  "metadata": {
    "colab": {
      "provenance": []
    },
    "kernelspec": {
      "name": "python3",
      "display_name": "Python 3"
    },
    "language_info": {
      "name": "python"
    }
  },
  "cells": [
    {
      "cell_type": "code",
      "execution_count": 147,
      "metadata": {
        "id": "Cjqf1H36M740"
      },
      "outputs": [],
      "source": [
        "import numpy as np\n",
        "import matplotlib.pyplot as plt\n",
        "import pandas as pd"
      ]
    },
    {
      "cell_type": "code",
      "source": [
        "data = pd.read_csv('kemerer.csv')\n",
        "del data['id']\n",
        "X=data.iloc[:,:-1] #Independent Variable\n",
        "Y=data.iloc[:,-1]   #Dependent Variable\n",
        "from sklearn.preprocessing import StandardScaler\n",
        "scaler = StandardScaler()\n",
        "X = scaler.fit_transform(X)\n",
        "Y.head(5)"
      ],
      "metadata": {
        "colab": {
          "base_uri": "https://localhost:8080/"
        },
        "id": "SbSzK-eTM_45",
        "outputId": "9af507d1-6dc9-4f18-d51d-a499e821d02a"
      },
      "execution_count": 148,
      "outputs": [
        {
          "output_type": "execute_result",
          "data": {
            "text/plain": [
              "0     287.00\n",
              "1      82.50\n",
              "2    1107.31\n",
              "3      86.90\n",
              "4     336.30\n",
              "Name: EffortMM, dtype: float64"
            ]
          },
          "metadata": {},
          "execution_count": 148
        }
      ]
    },
    {
      "cell_type": "code",
      "source": [
        "from sklearn.model_selection import train_test_split as split_data\n",
        "X_train, X_test, Y_train, Y_test = split_data(X, Y , test_size = 0.2 , shuffle=True)"
      ],
      "metadata": {
        "id": "VU4sL-z-NH7m"
      },
      "execution_count": 149,
      "outputs": []
    },
    {
      "cell_type": "code",
      "source": [
        "# import SVC classifier\n",
        "from sklearn.svm import SVR\n",
        "\n",
        "# import metrics to compute accuracy\n",
        "from sklearn.metrics import accuracy_score\n",
        "\n",
        "# instantiate classifier with default hyperparameters\n",
        "svr=SVR() \n",
        "\n",
        "# fit classifier to training set\n",
        "svr.fit(X_train,Y_train)\n"
      ],
      "metadata": {
        "colab": {
          "base_uri": "https://localhost:8080/"
        },
        "id": "TcSqpwZbNYYD",
        "outputId": "0043b511-abae-4473-d213-81978fde02fc"
      },
      "execution_count": 150,
      "outputs": [
        {
          "output_type": "execute_result",
          "data": {
            "text/plain": [
              "SVR()"
            ]
          },
          "metadata": {},
          "execution_count": 150
        }
      ]
    },
    {
      "cell_type": "code",
      "source": [
        "Y_pred=svr.predict(X_test)\n",
        "print(Y_test)\n",
        "print(\"-----------------------------\")\n",
        "print(Y_pred)"
      ],
      "metadata": {
        "colab": {
          "base_uri": "https://localhost:8080/"
        },
        "id": "MO5m6PjbNZr6",
        "outputId": "eb97d41d-d482-4c57-8751-ee2ec36d0f5b"
      },
      "execution_count": 151,
      "outputs": [
        {
          "output_type": "stream",
          "name": "stdout",
          "text": [
            "5     84.0\n",
            "0    287.0\n",
            "4    336.3\n",
            "Name: EffortMM, dtype: float64\n",
            "-----------------------------\n",
            "[121.52140398 122.31451644 123.28900988]\n"
          ]
        }
      ]
    },
    {
      "cell_type": "code",
      "source": [
        "# Predict and evaluate Accuracy of model\n",
        "# Y_test = np.array(Y_test)\n",
        "# type(Y_test)\n",
        "# type(Y_pred)\n",
        "\n",
        "# def mae(y_true, predictions):\n",
        "#     y_true, predictions = np.array(y_true), np.array(predictions)\n",
        "#     return np.mean(np.abs(y_true - predictions))\n",
        "\n",
        "# print(mae(Y_test, Y_pred))\n",
        "\n",
        "import math\n",
        "error = (np.subtract(Y_test,Y_pred)/np.maximum(np.absolute(Y_test),np.absolute(Y_pred))).mean()\n",
        "# error = MAE(y_test, y_pred)\n",
        "\n",
        "print(f'MAE error is {error}')\n",
        "MSE = np.square(np.subtract(Y_test,Y_pred)/np.maximum(np.absolute(Y_test),np.absolute(Y_pred))).mean() \n",
        "# print(MSE)\n",
        "RMSE = math.sqrt(MSE)\n",
        "print(\"Root mean Sqaured Error\",RMSE)\n"
      ],
      "metadata": {
        "colab": {
          "base_uri": "https://localhost:8080/"
        },
        "id": "jWzhrC4oNblL",
        "outputId": "4d098ef9-6dd9-47fc-bed2-94e805a5e0db"
      },
      "execution_count": 152,
      "outputs": [
        {
          "output_type": "stream",
          "name": "stdout",
          "text": [
            "MAE error is 0.299483005853829\n",
            "Root mean Sqaured Error 0.5246558213859204\n"
          ]
        }
      ]
    },
    {
      "cell_type": "code",
      "source": [],
      "metadata": {
        "id": "FPZN9KcfcF84"
      },
      "execution_count": 152,
      "outputs": []
    }
  ]
}