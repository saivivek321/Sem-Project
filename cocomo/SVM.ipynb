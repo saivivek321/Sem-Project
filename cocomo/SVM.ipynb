{
  "nbformat": 4,
  "nbformat_minor": 0,
  "metadata": {
    "colab": {
      "provenance": []
    },
    "kernelspec": {
      "name": "python3",
      "display_name": "Python 3"
    },
    "language_info": {
      "name": "python"
    }
  },
  "cells": [
    {
      "cell_type": "code",
      "execution_count": 25,
      "metadata": {
        "id": "Cjqf1H36M740"
      },
      "outputs": [],
      "source": [
        "import numpy as np\n",
        "import matplotlib.pyplot as plt\n",
        "import pandas as pd"
      ]
    },
    {
      "cell_type": "code",
      "source": [
        "data = pd.read_csv('cocomo.csv')\n",
        "del data['id']\n",
        "X=data.iloc[:,:-1] #Independent Variable\n",
        "Y=data.iloc[:,-1]   #Dependent Variable\n",
        "from sklearn.preprocessing import StandardScaler\n",
        "scaler = StandardScaler()\n",
        "X = scaler.fit_transform(X)\n",
        "Y.head(5)"
      ],
      "metadata": {
        "colab": {
          "base_uri": "https://localhost:8080/"
        },
        "id": "SbSzK-eTM_45",
        "outputId": "033090e5-ff5e-4758-ffd2-374bf96f7054"
      },
      "execution_count": 26,
      "outputs": [
        {
          "output_type": "execute_result",
          "data": {
            "text/plain": [
              "0    2040.0\n",
              "1    1600.0\n",
              "2     243.0\n",
              "3     240.0\n",
              "4      33.0\n",
              "Name: actual, dtype: float64"
            ]
          },
          "metadata": {},
          "execution_count": 26
        }
      ]
    },
    {
      "cell_type": "code",
      "source": [
        "from sklearn.model_selection import train_test_split as split_data\n",
        "X_train, X_test, Y_train, Y_test = split_data(X, Y , test_size = 0.2 , shuffle=True)"
      ],
      "metadata": {
        "id": "VU4sL-z-NH7m"
      },
      "execution_count": 27,
      "outputs": []
    },
    {
      "cell_type": "code",
      "source": [
        "# import SVC classifier\n",
        "from sklearn.svm import SVR\n",
        "\n",
        "# import metrics to compute accuracy\n",
        "from sklearn.metrics import accuracy_score\n",
        "\n",
        "# instantiate classifier with default hyperparameters\n",
        "svr=SVR() \n",
        "\n",
        "# fit classifier to training set\n",
        "svr.fit(X_train,Y_train)\n"
      ],
      "metadata": {
        "colab": {
          "base_uri": "https://localhost:8080/"
        },
        "id": "TcSqpwZbNYYD",
        "outputId": "ac586415-9b25-454c-c782-0ec1ba20cb88"
      },
      "execution_count": 28,
      "outputs": [
        {
          "output_type": "execute_result",
          "data": {
            "text/plain": [
              "SVR()"
            ]
          },
          "metadata": {},
          "execution_count": 28
        }
      ]
    },
    {
      "cell_type": "code",
      "source": [
        "Y_pred=svr.predict(X_test)\n",
        "print(Y_test)\n",
        "print(\"-----------------------------\")\n",
        "print(Y_pred)"
      ],
      "metadata": {
        "colab": {
          "base_uri": "https://localhost:8080/"
        },
        "id": "MO5m6PjbNZr6",
        "outputId": "ed32458c-adae-4988-d9b0-13f79036344e"
      },
      "execution_count": 29,
      "outputs": [
        {
          "output_type": "stream",
          "name": "stdout",
          "text": [
            "45     126.0\n",
            "26      88.0\n",
            "43      87.0\n",
            "4       33.0\n",
            "48     156.0\n",
            "6        8.0\n",
            "37      12.0\n",
            "16       9.0\n",
            "42      83.0\n",
            "30    1063.0\n",
            "61      38.0\n",
            "44     106.0\n",
            "62      15.0\n",
            "Name: actual, dtype: float64\n",
            "-----------------------------\n",
            "[152.25507166 152.62539053 152.60930034 150.91944672 152.05394442\n",
            " 150.74335918 151.52140432 153.97408983 152.82605273 154.73746846\n",
            " 151.98410775 152.23639261 150.69392216]\n"
          ]
        }
      ]
    },
    {
      "cell_type": "code",
      "source": [
        "# Predict and evaluate Accuracy of model\n",
        "# Y_test = np.array(Y_test)\n",
        "# type(Y_test)\n",
        "# type(Y_pred)\n",
        "\n",
        "# def mae(y_true, predictions):\n",
        "#     y_true, predictions = np.array(y_true), np.array(predictions)\n",
        "#     return np.mean(np.abs(y_true - predictions))\n",
        "\n",
        "# print(mae(Y_test, Y_pred))\n",
        "\n",
        "import math\n",
        "error = (np.subtract(Y_test,Y_pred)/np.maximum(np.absolute(Y_test),np.absolute(Y_pred))).mean()\n",
        "# error = MAE(y_test, y_pred)\n",
        "print(f'MAE error is {error}')\n",
        "MSE = np.square(np.subtract(Y_test,Y_pred)/np.maximum(np.absolute(Y_test),np.absolute(Y_pred))).mean() \n",
        "# print(MSE)\n",
        "RMSE = math.sqrt(MSE)\n",
        "print(\"Root mean Sqaured Error\",RMSE)\n"
      ],
      "metadata": {
        "colab": {
          "base_uri": "https://localhost:8080/"
        },
        "id": "jWzhrC4oNblL",
        "outputId": "095260c8-3150-4c0e-c1ae-169d54d1bfc0"
      },
      "execution_count": 31,
      "outputs": [
        {
          "output_type": "stream",
          "name": "stdout",
          "text": [
            "MAE error is 0.4729018546874509\n",
            "Root mean Sqaured Error 0.6816495241964746\n"
          ]
        }
      ]
    },
    {
      "cell_type": "code",
      "source": [],
      "metadata": {
        "id": "OnTug57FNdKP"
      },
      "execution_count": 30,
      "outputs": []
    }
  ]
}