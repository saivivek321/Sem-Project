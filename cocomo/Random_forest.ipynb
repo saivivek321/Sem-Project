{
  "nbformat": 4,
  "nbformat_minor": 0,
  "metadata": {
    "colab": {
      "provenance": []
    },
    "kernelspec": {
      "name": "python3",
      "display_name": "Python 3"
    },
    "language_info": {
      "name": "python"
    }
  },
  "cells": [
    {
      "cell_type": "code",
      "execution_count": 21,
      "metadata": {
        "id": "5wEqBs1EJKez"
      },
      "outputs": [],
      "source": [
        "import matplotlib.pyplot as plt\n",
        "%matplotlib inline\n",
        "import pandas as pd\n",
        "import numpy as np"
      ]
    },
    {
      "cell_type": "code",
      "source": [
        "# Import make_regression method to generate artificial data samples \n",
        "from sklearn.datasets import make_regression"
      ],
      "metadata": {
        "id": "-tGMwY7DJk5u"
      },
      "execution_count": 22,
      "outputs": []
    },
    {
      "cell_type": "code",
      "source": [
        "data = pd.read_csv('cocomo.csv')"
      ],
      "metadata": {
        "id": "xz0yEEP1LCHM"
      },
      "execution_count": 23,
      "outputs": []
    },
    {
      "cell_type": "code",
      "source": [
        "del data['id']\n",
        "data.head()"
      ],
      "metadata": {
        "colab": {
          "base_uri": "https://localhost:8080/",
          "height": 206
        },
        "id": "_3aYCRWSLIBf",
        "outputId": "0868c8da-c2c5-4d39-8b6a-9038c2ee12b9"
      },
      "execution_count": 24,
      "outputs": [
        {
          "output_type": "execute_result",
          "data": {
            "text/plain": [
              "   rely  data  cplx  time  stor  virt  turn  acap  aexp  pcap  vexp  lexp  \\\n",
              "0  0.88  1.16  0.70   1.0  1.06  1.15  1.07  1.19  1.13  1.17   1.1  1.00   \n",
              "1  0.88  1.16  0.85   1.0  1.06  1.00  1.07  1.00  0.91  1.00   0.9  0.95   \n",
              "2  1.00  1.16  0.85   1.0  1.00  0.87  0.94  0.86  0.82  0.86   0.9  0.95   \n",
              "3  0.75  1.16  0.70   1.0  1.00  0.87  1.00  1.19  0.91  1.42   1.0  0.95   \n",
              "4  0.88  0.94  1.00   1.0  1.00  0.87  1.00  1.00  1.00  0.86   0.9  0.95   \n",
              "\n",
              "   modp  tool  sced    loc  actual  \n",
              "0  1.24  1.10  1.04  113.0  2040.0  \n",
              "1  1.10  1.00  1.00  293.0  1600.0  \n",
              "2  0.91  0.91  1.00  132.0   243.0  \n",
              "3  1.24  1.00  1.04   60.0   240.0  \n",
              "4  1.24  1.00  1.00   16.0    33.0  "
            ],
            "text/html": [
              "\n",
              "  <div id=\"df-d95523ca-75ed-4558-9669-a51dd0f35366\">\n",
              "    <div class=\"colab-df-container\">\n",
              "      <div>\n",
              "<style scoped>\n",
              "    .dataframe tbody tr th:only-of-type {\n",
              "        vertical-align: middle;\n",
              "    }\n",
              "\n",
              "    .dataframe tbody tr th {\n",
              "        vertical-align: top;\n",
              "    }\n",
              "\n",
              "    .dataframe thead th {\n",
              "        text-align: right;\n",
              "    }\n",
              "</style>\n",
              "<table border=\"1\" class=\"dataframe\">\n",
              "  <thead>\n",
              "    <tr style=\"text-align: right;\">\n",
              "      <th></th>\n",
              "      <th>rely</th>\n",
              "      <th>data</th>\n",
              "      <th>cplx</th>\n",
              "      <th>time</th>\n",
              "      <th>stor</th>\n",
              "      <th>virt</th>\n",
              "      <th>turn</th>\n",
              "      <th>acap</th>\n",
              "      <th>aexp</th>\n",
              "      <th>pcap</th>\n",
              "      <th>vexp</th>\n",
              "      <th>lexp</th>\n",
              "      <th>modp</th>\n",
              "      <th>tool</th>\n",
              "      <th>sced</th>\n",
              "      <th>loc</th>\n",
              "      <th>actual</th>\n",
              "    </tr>\n",
              "  </thead>\n",
              "  <tbody>\n",
              "    <tr>\n",
              "      <th>0</th>\n",
              "      <td>0.88</td>\n",
              "      <td>1.16</td>\n",
              "      <td>0.70</td>\n",
              "      <td>1.0</td>\n",
              "      <td>1.06</td>\n",
              "      <td>1.15</td>\n",
              "      <td>1.07</td>\n",
              "      <td>1.19</td>\n",
              "      <td>1.13</td>\n",
              "      <td>1.17</td>\n",
              "      <td>1.1</td>\n",
              "      <td>1.00</td>\n",
              "      <td>1.24</td>\n",
              "      <td>1.10</td>\n",
              "      <td>1.04</td>\n",
              "      <td>113.0</td>\n",
              "      <td>2040.0</td>\n",
              "    </tr>\n",
              "    <tr>\n",
              "      <th>1</th>\n",
              "      <td>0.88</td>\n",
              "      <td>1.16</td>\n",
              "      <td>0.85</td>\n",
              "      <td>1.0</td>\n",
              "      <td>1.06</td>\n",
              "      <td>1.00</td>\n",
              "      <td>1.07</td>\n",
              "      <td>1.00</td>\n",
              "      <td>0.91</td>\n",
              "      <td>1.00</td>\n",
              "      <td>0.9</td>\n",
              "      <td>0.95</td>\n",
              "      <td>1.10</td>\n",
              "      <td>1.00</td>\n",
              "      <td>1.00</td>\n",
              "      <td>293.0</td>\n",
              "      <td>1600.0</td>\n",
              "    </tr>\n",
              "    <tr>\n",
              "      <th>2</th>\n",
              "      <td>1.00</td>\n",
              "      <td>1.16</td>\n",
              "      <td>0.85</td>\n",
              "      <td>1.0</td>\n",
              "      <td>1.00</td>\n",
              "      <td>0.87</td>\n",
              "      <td>0.94</td>\n",
              "      <td>0.86</td>\n",
              "      <td>0.82</td>\n",
              "      <td>0.86</td>\n",
              "      <td>0.9</td>\n",
              "      <td>0.95</td>\n",
              "      <td>0.91</td>\n",
              "      <td>0.91</td>\n",
              "      <td>1.00</td>\n",
              "      <td>132.0</td>\n",
              "      <td>243.0</td>\n",
              "    </tr>\n",
              "    <tr>\n",
              "      <th>3</th>\n",
              "      <td>0.75</td>\n",
              "      <td>1.16</td>\n",
              "      <td>0.70</td>\n",
              "      <td>1.0</td>\n",
              "      <td>1.00</td>\n",
              "      <td>0.87</td>\n",
              "      <td>1.00</td>\n",
              "      <td>1.19</td>\n",
              "      <td>0.91</td>\n",
              "      <td>1.42</td>\n",
              "      <td>1.0</td>\n",
              "      <td>0.95</td>\n",
              "      <td>1.24</td>\n",
              "      <td>1.00</td>\n",
              "      <td>1.04</td>\n",
              "      <td>60.0</td>\n",
              "      <td>240.0</td>\n",
              "    </tr>\n",
              "    <tr>\n",
              "      <th>4</th>\n",
              "      <td>0.88</td>\n",
              "      <td>0.94</td>\n",
              "      <td>1.00</td>\n",
              "      <td>1.0</td>\n",
              "      <td>1.00</td>\n",
              "      <td>0.87</td>\n",
              "      <td>1.00</td>\n",
              "      <td>1.00</td>\n",
              "      <td>1.00</td>\n",
              "      <td>0.86</td>\n",
              "      <td>0.9</td>\n",
              "      <td>0.95</td>\n",
              "      <td>1.24</td>\n",
              "      <td>1.00</td>\n",
              "      <td>1.00</td>\n",
              "      <td>16.0</td>\n",
              "      <td>33.0</td>\n",
              "    </tr>\n",
              "  </tbody>\n",
              "</table>\n",
              "</div>\n",
              "      <button class=\"colab-df-convert\" onclick=\"convertToInteractive('df-d95523ca-75ed-4558-9669-a51dd0f35366')\"\n",
              "              title=\"Convert this dataframe to an interactive table.\"\n",
              "              style=\"display:none;\">\n",
              "        \n",
              "  <svg xmlns=\"http://www.w3.org/2000/svg\" height=\"24px\"viewBox=\"0 0 24 24\"\n",
              "       width=\"24px\">\n",
              "    <path d=\"M0 0h24v24H0V0z\" fill=\"none\"/>\n",
              "    <path d=\"M18.56 5.44l.94 2.06.94-2.06 2.06-.94-2.06-.94-.94-2.06-.94 2.06-2.06.94zm-11 1L8.5 8.5l.94-2.06 2.06-.94-2.06-.94L8.5 2.5l-.94 2.06-2.06.94zm10 10l.94 2.06.94-2.06 2.06-.94-2.06-.94-.94-2.06-.94 2.06-2.06.94z\"/><path d=\"M17.41 7.96l-1.37-1.37c-.4-.4-.92-.59-1.43-.59-.52 0-1.04.2-1.43.59L10.3 9.45l-7.72 7.72c-.78.78-.78 2.05 0 2.83L4 21.41c.39.39.9.59 1.41.59.51 0 1.02-.2 1.41-.59l7.78-7.78 2.81-2.81c.8-.78.8-2.07 0-2.86zM5.41 20L4 18.59l7.72-7.72 1.47 1.35L5.41 20z\"/>\n",
              "  </svg>\n",
              "      </button>\n",
              "      \n",
              "  <style>\n",
              "    .colab-df-container {\n",
              "      display:flex;\n",
              "      flex-wrap:wrap;\n",
              "      gap: 12px;\n",
              "    }\n",
              "\n",
              "    .colab-df-convert {\n",
              "      background-color: #E8F0FE;\n",
              "      border: none;\n",
              "      border-radius: 50%;\n",
              "      cursor: pointer;\n",
              "      display: none;\n",
              "      fill: #1967D2;\n",
              "      height: 32px;\n",
              "      padding: 0 0 0 0;\n",
              "      width: 32px;\n",
              "    }\n",
              "\n",
              "    .colab-df-convert:hover {\n",
              "      background-color: #E2EBFA;\n",
              "      box-shadow: 0px 1px 2px rgba(60, 64, 67, 0.3), 0px 1px 3px 1px rgba(60, 64, 67, 0.15);\n",
              "      fill: #174EA6;\n",
              "    }\n",
              "\n",
              "    [theme=dark] .colab-df-convert {\n",
              "      background-color: #3B4455;\n",
              "      fill: #D2E3FC;\n",
              "    }\n",
              "\n",
              "    [theme=dark] .colab-df-convert:hover {\n",
              "      background-color: #434B5C;\n",
              "      box-shadow: 0px 1px 3px 1px rgba(0, 0, 0, 0.15);\n",
              "      filter: drop-shadow(0px 1px 2px rgba(0, 0, 0, 0.3));\n",
              "      fill: #FFFFFF;\n",
              "    }\n",
              "  </style>\n",
              "\n",
              "      <script>\n",
              "        const buttonEl =\n",
              "          document.querySelector('#df-d95523ca-75ed-4558-9669-a51dd0f35366 button.colab-df-convert');\n",
              "        buttonEl.style.display =\n",
              "          google.colab.kernel.accessAllowed ? 'block' : 'none';\n",
              "\n",
              "        async function convertToInteractive(key) {\n",
              "          const element = document.querySelector('#df-d95523ca-75ed-4558-9669-a51dd0f35366');\n",
              "          const dataTable =\n",
              "            await google.colab.kernel.invokeFunction('convertToInteractive',\n",
              "                                                     [key], {});\n",
              "          if (!dataTable) return;\n",
              "\n",
              "          const docLinkHtml = 'Like what you see? Visit the ' +\n",
              "            '<a target=\"_blank\" href=https://colab.research.google.com/notebooks/data_table.ipynb>data table notebook</a>'\n",
              "            + ' to learn more about interactive tables.';\n",
              "          element.innerHTML = '';\n",
              "          dataTable['output_type'] = 'display_data';\n",
              "          await google.colab.output.renderOutput(dataTable, element);\n",
              "          const docLink = document.createElement('div');\n",
              "          docLink.innerHTML = docLinkHtml;\n",
              "          element.appendChild(docLink);\n",
              "        }\n",
              "      </script>\n",
              "    </div>\n",
              "  </div>\n",
              "  "
            ]
          },
          "metadata": {},
          "execution_count": 24
        }
      ]
    },
    {
      "cell_type": "code",
      "source": [
        "x = data.iloc[:, :-1]\n",
        "y = data.iloc[:, -1]\n",
        "from sklearn.preprocessing import StandardScaler\n",
        "scaler = StandardScaler()\n",
        "x = scaler.fit_transform(x)\n",
        "print(x.shape)\n",
        "print(\"-------------------------\")\n",
        "print(y.shape)"
      ],
      "metadata": {
        "colab": {
          "base_uri": "https://localhost:8080/"
        },
        "id": "VWOEpFGMLISg",
        "outputId": "7264328f-9b1d-428e-b564-25b1e7a3cb8e"
      },
      "execution_count": 36,
      "outputs": [
        {
          "output_type": "stream",
          "name": "stdout",
          "text": [
            "(63, 16)\n",
            "-------------------------\n",
            "(63,)\n"
          ]
        }
      ]
    },
    {
      "cell_type": "code",
      "source": [
        "from sklearn.model_selection import train_test_split as split_data\n",
        "x_train, x_test, y_train, y_test = split_data(x, y, test_size=0.20, shuffle=True)\n",
        "print(x_train.shape, x_test.shape, y_train.shape, y_test.shape)"
      ],
      "metadata": {
        "colab": {
          "base_uri": "https://localhost:8080/"
        },
        "id": "ETmEL4DjDXEC",
        "outputId": "3208c997-5cb1-43d6-dde0-63730b153501"
      },
      "execution_count": 37,
      "outputs": [
        {
          "output_type": "stream",
          "name": "stdout",
          "text": [
            "(50, 16) (13, 16) (50,) (13,)\n"
          ]
        }
      ]
    },
    {
      "cell_type": "code",
      "source": [
        "from sklearn.tree import DecisionTreeRegressor\n",
        "treeModel = DecisionTreeRegressor(max_depth=5, random_state=None)"
      ],
      "metadata": {
        "id": "s_T5zqsLJtZb"
      },
      "execution_count": 38,
      "outputs": []
    },
    {
      "cell_type": "code",
      "source": [
        "treeModel.fit(x_train, y_train)"
      ],
      "metadata": {
        "colab": {
          "base_uri": "https://localhost:8080/"
        },
        "id": "T1WYmRM-JvI9",
        "outputId": "6f56c542-e512-40f6-dfcc-bb48dfe9fd97"
      },
      "execution_count": 39,
      "outputs": [
        {
          "output_type": "execute_result",
          "data": {
            "text/plain": [
              "DecisionTreeRegressor(max_depth=5)"
            ]
          },
          "metadata": {},
          "execution_count": 39
        }
      ]
    },
    {
      "cell_type": "code",
      "source": [
        "print(\"Regression coefficient:\",treeModel.score(x_train,y_train))"
      ],
      "metadata": {
        "colab": {
          "base_uri": "https://localhost:8080/"
        },
        "id": "YjbBbXxsJzVW",
        "outputId": "1bcf3cf3-d19d-4e19-bde3-a12258316604"
      },
      "execution_count": 40,
      "outputs": [
        {
          "output_type": "stream",
          "name": "stdout",
          "text": [
            "Regression coefficient: 0.999161435480911\n"
          ]
        }
      ]
    },
    {
      "cell_type": "code",
      "source": [
        "from sklearn.ensemble import RandomForestRegressor"
      ],
      "metadata": {
        "id": "YZtPdWYmJ2eP"
      },
      "execution_count": 41,
      "outputs": []
    },
    {
      "cell_type": "code",
      "source": [
        "model = RandomForestRegressor(max_depth=5, random_state=None,max_features='auto',max_leaf_nodes=5,n_estimators=50, criterion=\"absolute_error\")\n",
        "model.fit(x_train, y_train)"
      ],
      "metadata": {
        "colab": {
          "base_uri": "https://localhost:8080/"
        },
        "id": "-kjEYqe9MiGf",
        "outputId": "948c5e43-7f9c-4217-ff10-a06a7666d8f4"
      },
      "execution_count": 42,
      "outputs": [
        {
          "output_type": "execute_result",
          "data": {
            "text/plain": [
              "RandomForestRegressor(criterion='absolute_error', max_depth=5, max_leaf_nodes=5,\n",
              "                      n_estimators=50)"
            ]
          },
          "metadata": {},
          "execution_count": 42
        }
      ]
    },
    {
      "cell_type": "code",
      "source": [
        "print(\"Regression coefficient:\",model.score(x_train,y_train))"
      ],
      "metadata": {
        "colab": {
          "base_uri": "https://localhost:8080/"
        },
        "id": "vFoNebLlMm8h",
        "outputId": "0949a7d2-2c44-43d6-af20-40bcf20c19bd"
      },
      "execution_count": 43,
      "outputs": [
        {
          "output_type": "stream",
          "name": "stdout",
          "text": [
            "Regression coefficient: 0.8774944669494423\n"
          ]
        }
      ]
    },
    {
      "cell_type": "code",
      "source": [
        "y_pred = model.predict(x_test)\n",
        "print(y_pred)\n",
        "print(\"-------------------------------\")\n",
        "print(y_test)"
      ],
      "metadata": {
        "id": "N8MqqPzNMpOe",
        "colab": {
          "base_uri": "https://localhost:8080/"
        },
        "outputId": "18033e80-7ffa-45cc-bc24-25887abc1ebd"
      },
      "execution_count": 44,
      "outputs": [
        {
          "output_type": "stream",
          "name": "stdout",
          "text": [
            "[ 177.43  172.54   44.1    53.61  132.36  196.67 4128.33  207.38   93.88\n",
            "  465.78  275.08 3891.89   49.14]\n",
            "-------------------------------\n",
            "43      87.0\n",
            "5       43.0\n",
            "39       8.0\n",
            "15      40.0\n",
            "46      36.0\n",
            "7     1075.0\n",
            "18    6600.0\n",
            "10     218.0\n",
            "59      57.0\n",
            "27      98.0\n",
            "34      82.0\n",
            "20    2455.0\n",
            "37      12.0\n",
            "Name: actual, dtype: float64\n"
          ]
        }
      ]
    },
    {
      "cell_type": "code",
      "source": [
        "#np.mean(abs(np.array(y_pred)-np.array(y_test)))/np.sum(y_pred)\n",
        "\n",
        "# Mean Absolute Error\n",
        "from sklearn.metrics import mean_absolute_error as MAE\n",
        "# error = MAE(y_test, y_pred)\n",
        "error = (np.absolute(np.subtract(y_test,y_pred)/np.maximum(np.absolute(y_test),np.absolute(y_pred)))).mean()\n",
        "print(f'MAE error is {error}')"
      ],
      "metadata": {
        "colab": {
          "base_uri": "https://localhost:8080/"
        },
        "id": "25bZaxB7FfEa",
        "outputId": "4c874227-c0ea-4461-e936-dabf34212a95"
      },
      "execution_count": 45,
      "outputs": [
        {
          "output_type": "stream",
          "name": "stdout",
          "text": [
            "MAE error is 0.5623490373940625\n"
          ]
        }
      ]
    },
    {
      "cell_type": "code",
      "source": [
        "import math\n",
        "# MSE = np.square(np.subtract(y_test,y_pred)).mean() \n",
        "# print(MSE)\n",
        " \n",
        "# RMSE = math.sqrt(MSE)\n",
        "# print(\"Root Mean Square Error:\\n\")\n",
        "# print(RMSE)\n",
        "\n",
        "\n",
        "\n",
        "MSE = np.square(np.subtract(y_test,y_pred)/np.maximum(np.absolute(y_test),np.absolute(y_pred))).mean() \n",
        "RMSE = math.sqrt(MSE)\n",
        "print(\"Root Mean Square Error:\")\n",
        "print(RMSE)"
      ],
      "metadata": {
        "colab": {
          "base_uri": "https://localhost:8080/"
        },
        "id": "FZl0o8kJFpHZ",
        "outputId": "d8b72f83-5575-477d-fdbc-1b754d5798fb"
      },
      "execution_count": 46,
      "outputs": [
        {
          "output_type": "stream",
          "name": "stdout",
          "text": [
            "Root Mean Square Error:\n",
            "0.6124468153996587\n"
          ]
        }
      ]
    },
    {
      "cell_type": "code",
      "source": [],
      "metadata": {
        "id": "s0FVrzngLfqQ"
      },
      "execution_count": null,
      "outputs": []
    }
  ]
}