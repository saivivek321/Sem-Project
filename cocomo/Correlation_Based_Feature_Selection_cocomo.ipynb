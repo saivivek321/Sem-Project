{
  "nbformat": 4,
  "nbformat_minor": 0,
  "metadata": {
    "colab": {
      "provenance": []
    },
    "kernelspec": {
      "name": "python3",
      "display_name": "Python 3"
    },
    "language_info": {
      "name": "python"
    }
  },
  "cells": [
    {
      "cell_type": "code",
      "execution_count": 13,
      "metadata": {
        "id": "V6WUnX0ihZDz"
      },
      "outputs": [],
      "source": [
        "# Import Dependencies\n",
        "import numpy as np\n",
        "import pandas as pd\n",
        "import seaborn as sns\n",
        "import matplotlib.pyplot as plt\n",
        "from sklearn.model_selection import train_test_split\n",
        "%matplotlib inline\n",
        "from sklearn.linear_model import LinearRegression\n",
        "from sklearn.model_selection import train_test_split as split_data\n",
        "import math\n"
      ]
    },
    {
      "cell_type": "code",
      "source": [
        "# Load Dataset\n",
        "df = pd.read_csv('cocomo.csv')\n",
        "df.shape"
      ],
      "metadata": {
        "colab": {
          "base_uri": "https://localhost:8080/"
        },
        "id": "YrbAFyjchpLE",
        "outputId": "5f563f30-251e-4987-a4ca-b11a6be5c94b"
      },
      "execution_count": 14,
      "outputs": [
        {
          "output_type": "execute_result",
          "data": {
            "text/plain": [
              "(63, 18)"
            ]
          },
          "metadata": {},
          "execution_count": 14
        }
      ]
    },
    {
      "cell_type": "code",
      "source": [
        "df.head()"
      ],
      "metadata": {
        "colab": {
          "base_uri": "https://localhost:8080/",
          "height": 206
        },
        "id": "DWtY7i2XiDwh",
        "outputId": "65003c9a-13f0-45dc-a77f-fe0130a1736b"
      },
      "execution_count": 15,
      "outputs": [
        {
          "output_type": "execute_result",
          "data": {
            "text/plain": [
              "   id  rely  data  cplx  time  stor  virt  turn  acap  aexp  pcap  vexp  lexp  \\\n",
              "0   1  0.88  1.16  0.70   1.0  1.06  1.15  1.07  1.19  1.13  1.17   1.1  1.00   \n",
              "1   2  0.88  1.16  0.85   1.0  1.06  1.00  1.07  1.00  0.91  1.00   0.9  0.95   \n",
              "2   3  1.00  1.16  0.85   1.0  1.00  0.87  0.94  0.86  0.82  0.86   0.9  0.95   \n",
              "3   4  0.75  1.16  0.70   1.0  1.00  0.87  1.00  1.19  0.91  1.42   1.0  0.95   \n",
              "4   5  0.88  0.94  1.00   1.0  1.00  0.87  1.00  1.00  1.00  0.86   0.9  0.95   \n",
              "\n",
              "   modp  tool  sced    loc  actual  \n",
              "0  1.24  1.10  1.04  113.0  2040.0  \n",
              "1  1.10  1.00  1.00  293.0  1600.0  \n",
              "2  0.91  0.91  1.00  132.0   243.0  \n",
              "3  1.24  1.00  1.04   60.0   240.0  \n",
              "4  1.24  1.00  1.00   16.0    33.0  "
            ],
            "text/html": [
              "\n",
              "  <div id=\"df-48ad98eb-8741-4b01-84a6-3d1ee7c3d56b\">\n",
              "    <div class=\"colab-df-container\">\n",
              "      <div>\n",
              "<style scoped>\n",
              "    .dataframe tbody tr th:only-of-type {\n",
              "        vertical-align: middle;\n",
              "    }\n",
              "\n",
              "    .dataframe tbody tr th {\n",
              "        vertical-align: top;\n",
              "    }\n",
              "\n",
              "    .dataframe thead th {\n",
              "        text-align: right;\n",
              "    }\n",
              "</style>\n",
              "<table border=\"1\" class=\"dataframe\">\n",
              "  <thead>\n",
              "    <tr style=\"text-align: right;\">\n",
              "      <th></th>\n",
              "      <th>id</th>\n",
              "      <th>rely</th>\n",
              "      <th>data</th>\n",
              "      <th>cplx</th>\n",
              "      <th>time</th>\n",
              "      <th>stor</th>\n",
              "      <th>virt</th>\n",
              "      <th>turn</th>\n",
              "      <th>acap</th>\n",
              "      <th>aexp</th>\n",
              "      <th>pcap</th>\n",
              "      <th>vexp</th>\n",
              "      <th>lexp</th>\n",
              "      <th>modp</th>\n",
              "      <th>tool</th>\n",
              "      <th>sced</th>\n",
              "      <th>loc</th>\n",
              "      <th>actual</th>\n",
              "    </tr>\n",
              "  </thead>\n",
              "  <tbody>\n",
              "    <tr>\n",
              "      <th>0</th>\n",
              "      <td>1</td>\n",
              "      <td>0.88</td>\n",
              "      <td>1.16</td>\n",
              "      <td>0.70</td>\n",
              "      <td>1.0</td>\n",
              "      <td>1.06</td>\n",
              "      <td>1.15</td>\n",
              "      <td>1.07</td>\n",
              "      <td>1.19</td>\n",
              "      <td>1.13</td>\n",
              "      <td>1.17</td>\n",
              "      <td>1.1</td>\n",
              "      <td>1.00</td>\n",
              "      <td>1.24</td>\n",
              "      <td>1.10</td>\n",
              "      <td>1.04</td>\n",
              "      <td>113.0</td>\n",
              "      <td>2040.0</td>\n",
              "    </tr>\n",
              "    <tr>\n",
              "      <th>1</th>\n",
              "      <td>2</td>\n",
              "      <td>0.88</td>\n",
              "      <td>1.16</td>\n",
              "      <td>0.85</td>\n",
              "      <td>1.0</td>\n",
              "      <td>1.06</td>\n",
              "      <td>1.00</td>\n",
              "      <td>1.07</td>\n",
              "      <td>1.00</td>\n",
              "      <td>0.91</td>\n",
              "      <td>1.00</td>\n",
              "      <td>0.9</td>\n",
              "      <td>0.95</td>\n",
              "      <td>1.10</td>\n",
              "      <td>1.00</td>\n",
              "      <td>1.00</td>\n",
              "      <td>293.0</td>\n",
              "      <td>1600.0</td>\n",
              "    </tr>\n",
              "    <tr>\n",
              "      <th>2</th>\n",
              "      <td>3</td>\n",
              "      <td>1.00</td>\n",
              "      <td>1.16</td>\n",
              "      <td>0.85</td>\n",
              "      <td>1.0</td>\n",
              "      <td>1.00</td>\n",
              "      <td>0.87</td>\n",
              "      <td>0.94</td>\n",
              "      <td>0.86</td>\n",
              "      <td>0.82</td>\n",
              "      <td>0.86</td>\n",
              "      <td>0.9</td>\n",
              "      <td>0.95</td>\n",
              "      <td>0.91</td>\n",
              "      <td>0.91</td>\n",
              "      <td>1.00</td>\n",
              "      <td>132.0</td>\n",
              "      <td>243.0</td>\n",
              "    </tr>\n",
              "    <tr>\n",
              "      <th>3</th>\n",
              "      <td>4</td>\n",
              "      <td>0.75</td>\n",
              "      <td>1.16</td>\n",
              "      <td>0.70</td>\n",
              "      <td>1.0</td>\n",
              "      <td>1.00</td>\n",
              "      <td>0.87</td>\n",
              "      <td>1.00</td>\n",
              "      <td>1.19</td>\n",
              "      <td>0.91</td>\n",
              "      <td>1.42</td>\n",
              "      <td>1.0</td>\n",
              "      <td>0.95</td>\n",
              "      <td>1.24</td>\n",
              "      <td>1.00</td>\n",
              "      <td>1.04</td>\n",
              "      <td>60.0</td>\n",
              "      <td>240.0</td>\n",
              "    </tr>\n",
              "    <tr>\n",
              "      <th>4</th>\n",
              "      <td>5</td>\n",
              "      <td>0.88</td>\n",
              "      <td>0.94</td>\n",
              "      <td>1.00</td>\n",
              "      <td>1.0</td>\n",
              "      <td>1.00</td>\n",
              "      <td>0.87</td>\n",
              "      <td>1.00</td>\n",
              "      <td>1.00</td>\n",
              "      <td>1.00</td>\n",
              "      <td>0.86</td>\n",
              "      <td>0.9</td>\n",
              "      <td>0.95</td>\n",
              "      <td>1.24</td>\n",
              "      <td>1.00</td>\n",
              "      <td>1.00</td>\n",
              "      <td>16.0</td>\n",
              "      <td>33.0</td>\n",
              "    </tr>\n",
              "  </tbody>\n",
              "</table>\n",
              "</div>\n",
              "      <button class=\"colab-df-convert\" onclick=\"convertToInteractive('df-48ad98eb-8741-4b01-84a6-3d1ee7c3d56b')\"\n",
              "              title=\"Convert this dataframe to an interactive table.\"\n",
              "              style=\"display:none;\">\n",
              "        \n",
              "  <svg xmlns=\"http://www.w3.org/2000/svg\" height=\"24px\"viewBox=\"0 0 24 24\"\n",
              "       width=\"24px\">\n",
              "    <path d=\"M0 0h24v24H0V0z\" fill=\"none\"/>\n",
              "    <path d=\"M18.56 5.44l.94 2.06.94-2.06 2.06-.94-2.06-.94-.94-2.06-.94 2.06-2.06.94zm-11 1L8.5 8.5l.94-2.06 2.06-.94-2.06-.94L8.5 2.5l-.94 2.06-2.06.94zm10 10l.94 2.06.94-2.06 2.06-.94-2.06-.94-.94-2.06-.94 2.06-2.06.94z\"/><path d=\"M17.41 7.96l-1.37-1.37c-.4-.4-.92-.59-1.43-.59-.52 0-1.04.2-1.43.59L10.3 9.45l-7.72 7.72c-.78.78-.78 2.05 0 2.83L4 21.41c.39.39.9.59 1.41.59.51 0 1.02-.2 1.41-.59l7.78-7.78 2.81-2.81c.8-.78.8-2.07 0-2.86zM5.41 20L4 18.59l7.72-7.72 1.47 1.35L5.41 20z\"/>\n",
              "  </svg>\n",
              "      </button>\n",
              "      \n",
              "  <style>\n",
              "    .colab-df-container {\n",
              "      display:flex;\n",
              "      flex-wrap:wrap;\n",
              "      gap: 12px;\n",
              "    }\n",
              "\n",
              "    .colab-df-convert {\n",
              "      background-color: #E8F0FE;\n",
              "      border: none;\n",
              "      border-radius: 50%;\n",
              "      cursor: pointer;\n",
              "      display: none;\n",
              "      fill: #1967D2;\n",
              "      height: 32px;\n",
              "      padding: 0 0 0 0;\n",
              "      width: 32px;\n",
              "    }\n",
              "\n",
              "    .colab-df-convert:hover {\n",
              "      background-color: #E2EBFA;\n",
              "      box-shadow: 0px 1px 2px rgba(60, 64, 67, 0.3), 0px 1px 3px 1px rgba(60, 64, 67, 0.15);\n",
              "      fill: #174EA6;\n",
              "    }\n",
              "\n",
              "    [theme=dark] .colab-df-convert {\n",
              "      background-color: #3B4455;\n",
              "      fill: #D2E3FC;\n",
              "    }\n",
              "\n",
              "    [theme=dark] .colab-df-convert:hover {\n",
              "      background-color: #434B5C;\n",
              "      box-shadow: 0px 1px 3px 1px rgba(0, 0, 0, 0.15);\n",
              "      filter: drop-shadow(0px 1px 2px rgba(0, 0, 0, 0.3));\n",
              "      fill: #FFFFFF;\n",
              "    }\n",
              "  </style>\n",
              "\n",
              "      <script>\n",
              "        const buttonEl =\n",
              "          document.querySelector('#df-48ad98eb-8741-4b01-84a6-3d1ee7c3d56b button.colab-df-convert');\n",
              "        buttonEl.style.display =\n",
              "          google.colab.kernel.accessAllowed ? 'block' : 'none';\n",
              "\n",
              "        async function convertToInteractive(key) {\n",
              "          const element = document.querySelector('#df-48ad98eb-8741-4b01-84a6-3d1ee7c3d56b');\n",
              "          const dataTable =\n",
              "            await google.colab.kernel.invokeFunction('convertToInteractive',\n",
              "                                                     [key], {});\n",
              "          if (!dataTable) return;\n",
              "\n",
              "          const docLinkHtml = 'Like what you see? Visit the ' +\n",
              "            '<a target=\"_blank\" href=https://colab.research.google.com/notebooks/data_table.ipynb>data table notebook</a>'\n",
              "            + ' to learn more about interactive tables.';\n",
              "          element.innerHTML = '';\n",
              "          dataTable['output_type'] = 'display_data';\n",
              "          await google.colab.output.renderOutput(dataTable, element);\n",
              "          const docLink = document.createElement('div');\n",
              "          docLink.innerHTML = docLinkHtml;\n",
              "          element.appendChild(docLink);\n",
              "        }\n",
              "      </script>\n",
              "    </div>\n",
              "  </div>\n",
              "  "
            ]
          },
          "metadata": {},
          "execution_count": 15
        }
      ]
    },
    {
      "cell_type": "code",
      "source": [
        "data=df.drop(['id'],axis=1)\n",
        "data.shape"
      ],
      "metadata": {
        "colab": {
          "base_uri": "https://localhost:8080/"
        },
        "id": "p2Ddx9aJiieQ",
        "outputId": "139e0ea8-7217-42f5-fcd8-d1e2e264cc08"
      },
      "execution_count": 16,
      "outputs": [
        {
          "output_type": "execute_result",
          "data": {
            "text/plain": [
              "(63, 17)"
            ]
          },
          "metadata": {},
          "execution_count": 16
        }
      ]
    },
    {
      "cell_type": "code",
      "source": [
        "X=data.drop(['actual'],axis=1)\n",
        "y=data['actual']\n",
        "print(X)\n",
        "print(y)"
      ],
      "metadata": {
        "colab": {
          "base_uri": "https://localhost:8080/"
        },
        "id": "vFGU4swHi1u7",
        "outputId": "0e78007c-9144-48ef-9e4c-48ae60b3464d"
      },
      "execution_count": 17,
      "outputs": [
        {
          "output_type": "stream",
          "name": "stdout",
          "text": [
            "    rely  data  cplx  time  stor  virt  turn  acap  aexp  pcap  vexp  lexp  \\\n",
            "0   0.88  1.16  0.70  1.00  1.06  1.15  1.07  1.19  1.13  1.17  1.10  1.00   \n",
            "1   0.88  1.16  0.85  1.00  1.06  1.00  1.07  1.00  0.91  1.00  0.90  0.95   \n",
            "2   1.00  1.16  0.85  1.00  1.00  0.87  0.94  0.86  0.82  0.86  0.90  0.95   \n",
            "3   0.75  1.16  0.70  1.00  1.00  0.87  1.00  1.19  0.91  1.42  1.00  0.95   \n",
            "4   0.88  0.94  1.00  1.00  1.00  0.87  1.00  1.00  1.00  0.86  0.90  0.95   \n",
            "..   ...   ...   ...   ...   ...   ...   ...   ...   ...   ...   ...   ...   \n",
            "58  1.00  0.94  1.15  1.06  1.06  1.00  0.87  1.00  1.00  1.00  1.00  1.00   \n",
            "59  1.15  0.94  1.30  1.11  1.06  1.00  1.00  0.86  1.13  0.86  1.10  1.07   \n",
            "60  1.00  0.94  1.15  1.00  1.00  0.87  0.87  0.86  1.00  0.86  0.90  1.00   \n",
            "61  0.88  0.94  1.30  1.11  1.21  1.15  1.00  0.78  0.82  0.70  1.21  1.14   \n",
            "62  1.00  0.94  1.15  1.00  1.00  1.00  0.87  0.71  0.82  0.86  1.00  1.00   \n",
            "\n",
            "    modp  tool  sced    loc  \n",
            "0   1.24  1.10  1.04  113.0  \n",
            "1   1.10  1.00  1.00  293.0  \n",
            "2   0.91  0.91  1.00  132.0  \n",
            "3   1.24  1.00  1.04   60.0  \n",
            "4   1.24  1.00  1.00   16.0  \n",
            "..   ...   ...   ...    ...  \n",
            "58  0.91  1.00  1.00   23.0  \n",
            "59  1.10  1.10  1.08    6.7  \n",
            "60  0.82  1.00  1.00   28.0  \n",
            "61  0.91  1.24  1.00    9.1  \n",
            "62  0.82  1.00  1.00   10.0  \n",
            "\n",
            "[63 rows x 16 columns]\n",
            "0     2040.0\n",
            "1     1600.0\n",
            "2      243.0\n",
            "3      240.0\n",
            "4       33.0\n",
            "       ...  \n",
            "58      70.0\n",
            "59      57.0\n",
            "60      50.0\n",
            "61      38.0\n",
            "62      15.0\n",
            "Name: actual, Length: 63, dtype: float64\n"
          ]
        }
      ]
    },
    {
      "cell_type": "code",
      "source": [
        "# Train Test Split\n",
        "X_train, X_test, y_train, y_test = train_test_split(X, y, test_size=0.3, random_state=101)\n",
        "X_train.shape, y_train.shape, X_test.shape, y_test.shape"
      ],
      "metadata": {
        "colab": {
          "base_uri": "https://localhost:8080/"
        },
        "id": "uVGTT4Qvjhi3",
        "outputId": "15e1eefa-95ba-4f03-ac26-7f7cf7ac75a6"
      },
      "execution_count": 18,
      "outputs": [
        {
          "output_type": "execute_result",
          "data": {
            "text/plain": [
              "((44, 16), (44,), (19, 16), (19,))"
            ]
          },
          "metadata": {},
          "execution_count": 18
        }
      ]
    },
    {
      "cell_type": "code",
      "source": [
        "# Visualize Correlated Features\n",
        "# corr = X_train.corr()\n",
        "corr=data.corr()\n",
        "fig, ax = plt.subplots()\n",
        "fig.set_size_inches(11,11)\n",
        "sns.heatmap(corr)"
      ],
      "metadata": {
        "colab": {
          "base_uri": "https://localhost:8080/",
          "height": 667
        },
        "id": "teVgaQ-ojs6m",
        "outputId": "083cbe87-9338-4c1a-a37f-d9e47f869149"
      },
      "execution_count": 19,
      "outputs": [
        {
          "output_type": "execute_result",
          "data": {
            "text/plain": [
              "<AxesSubplot:>"
            ]
          },
          "metadata": {},
          "execution_count": 19
        },
        {
          "output_type": "display_data",
          "data": {
            "text/plain": [
              "<Figure size 792x792 with 2 Axes>"
            ],
            "image/png": "[encoded data removed]"
          },
          "metadata": {
            "needs_background": "light"
          }
        }
      ]
    },
    {
      "cell_type": "markdown",
      "source": [
        "## Brute Force Method to find Correlated Features"
      ],
      "metadata": {
        "id": "_nuS5qkEj1_N"
      }
    },
    {
      "cell_type": "code",
      "source": [
        "from pandas.core.indexes.multi import names_compat\n",
        "# Brute Force Method to find Correlation between features\n",
        "def correlation(data, threshold=None):\n",
        "    # Set of all names of correlated columns\n",
        "    col_corr = set()\n",
        "    corr_mat = data.corr()\n",
        "    # for i in range(len(corr_mat.columns)):\n",
        "    #     for j in range(i):\n",
        "    #         if (abs(corr_mat.iloc[i,j]) > threshold):\n",
        "    #             colname = corr_mat.columns[i]\n",
        "    #             col_corr.add(colname)\n",
        "    n=len(corr_mat.columns)\n",
        "    # print(corr_mat)\n",
        "    corr_features=set()\n",
        "    features=[]\n",
        "    for i in range(n-1):\n",
        "        if(abs(corr_mat.iloc[i,n-1])>threshold):\n",
        "            colname = corr_mat.columns[i]\n",
        "            corr_features.add(colname)\n",
        "            features.append(i)\n",
        "    return corr_features,features"
      ],
      "metadata": {
        "id": "SWvyw8Lqj1RG"
      },
      "execution_count": 20,
      "outputs": []
    },
    {
      "cell_type": "code",
      "source": [
        "correlated_features,features = correlation(data=data, threshold=0.1)\n",
        "print(len(set(correlated_features)))\n",
        "print(correlated_features)\n",
        "print(features)"
      ],
      "metadata": {
        "colab": {
          "base_uri": "https://localhost:8080/"
        },
        "id": "zotDkhEJkJfA",
        "outputId": "2ccc9653-d8f4-4f82-8ade-566bf57ef224"
      },
      "execution_count": 21,
      "outputs": [
        {
          "output_type": "stream",
          "name": "stdout",
          "text": [
            "9\n",
            "{'modp', 'acap', 'loc', 'time', 'data', 'stor', 'turn', 'rely', 'pcap'}\n",
            "[0, 1, 3, 4, 6, 7, 9, 12, 15]\n"
          ]
        }
      ]
    },
    {
      "cell_type": "code",
      "source": [
        "x_data=X.iloc[:, features].values\n",
        "y_data=y\n",
        "\n",
        "# Linear Regression \n",
        "x_train, x_test, y_train, y_test = split_data( x_data, y_data, test_size = 1/4, random_state = 80, shuffle=True) \n",
        "regressor = LinearRegression()\n",
        "regressor = regressor.fit(x_train, y_train)\n",
        "y_pred = regressor.predict(x_test)\n",
        "\n",
        "# Root Mean Sqaured Error\n",
        "MSE = np.square(np.subtract(y_test,y_pred)/np.maximum(np.absolute(y_test),np.absolute(y_pred))).mean() \n",
        "RMSE = math.sqrt(MSE)\n",
        "print(\"Root Mean Squared Error :\",RMSE)\n",
        "\n",
        "# Mean Absolute Error\n",
        "from sklearn.metrics import mean_absolute_error as MAE\n",
        "error = (np.subtract(y_test,y_pred)/np.maximum(np.absolute(y_test),np.absolute(y_pred))).mean()\n",
        "print(f'MAE error is {error}')"
      ],
      "metadata": {
        "id": "aWpcgljwk8z_",
        "colab": {
          "base_uri": "https://localhost:8080/"
        },
        "outputId": "9dd7d814-7421-489a-c1f9-9676d19fb908"
      },
      "execution_count": 22,
      "outputs": [
        {
          "output_type": "stream",
          "name": "stdout",
          "text": [
            "Root Mean Squared Error : 0.8492876224302769\n",
            "MAE error is 0.0033285700867104195\n"
          ]
        }
      ]
    },
    {
      "cell_type": "code",
      "source": [
        "# SVM\n",
        "from sklearn.model_selection import train_test_split as split_data\n",
        "X_train, X_test, Y_train, Y_test = split_data(x_data, y_data , test_size = 0.2 , shuffle=True)\n",
        "\n",
        "from sklearn.svm import SVR\n",
        "from sklearn.metrics import accuracy_score\n",
        "svr=SVR() \n",
        "svr.fit(X_train,Y_train)\n",
        "Y_pred=svr.predict(X_test)\n",
        "\n",
        "#Root Mean Squared Error\n",
        "MSE = np.square(np.subtract(Y_test,Y_pred)/np.maximum(np.absolute(Y_test),np.absolute(Y_pred))).mean() \n",
        "RMSE = math.sqrt(MSE)\n",
        "print(\"Root Mean Square Error:\\n\")\n",
        "print(RMSE)\n",
        "\n",
        "# Mean Absolute Error\n",
        "from sklearn.metrics import mean_absolute_error as MAE\n",
        "error = (np.subtract(Y_test,Y_pred)/np.maximum(np.absolute(Y_test),np.absolute(Y_pred))).mean()\n",
        "print(f'MAE error is {error}')"
      ],
      "metadata": {
        "colab": {
          "base_uri": "https://localhost:8080/"
        },
        "id": "Rw--NdEPCiPy",
        "outputId": "972b45e4-6863-4303-dee4-7088087cf57c"
      },
      "execution_count": 25,
      "outputs": [
        {
          "output_type": "stream",
          "name": "stdout",
          "text": [
            "Root Mean Square Error:\n",
            "\n",
            "0.803388855373869\n",
            "MAE error is 0.12915006762756398\n"
          ]
        }
      ]
    },
    {
      "cell_type": "code",
      "source": [
        "# Random Forest\n",
        "from sklearn.model_selection import train_test_split as split_data\n",
        "x_train, x_test, y_train, y_test = split_data(x_data, y_data, test_size=0.20, shuffle=True)\n",
        "\n",
        "from sklearn.tree import DecisionTreeRegressor\n",
        "from sklearn.ensemble import RandomForestRegressor\n",
        "treeModel = DecisionTreeRegressor(max_depth=5, random_state=None)\n",
        "treeModel.fit(x_train, y_train)\n",
        "model = RandomForestRegressor(max_depth=5, random_state=None,max_features='auto',max_leaf_nodes=5,n_estimators=50, criterion=\"absolute_error\")\n",
        "model.fit(x_train, y_train)\n",
        "y_pred = model.predict(x_test)\n",
        "\n",
        "# Mean Absolute Error\n",
        "from sklearn.metrics import mean_absolute_error as MAE\n",
        "error = (np.subtract(y_test,y_pred)/np.maximum(np.absolute(y_test),np.absolute(y_pred))).mean()\n",
        "print(f'MAE error is {error}')\n",
        "\n",
        "# Root Mean Squared Error\n",
        "MSE = np.square(np.subtract(y_test,y_pred)/np.maximum(np.absolute(y_test),np.absolute(y_pred))).mean() \n",
        "RMSE = math.sqrt(MSE)\n",
        "print(\"Root Mean Square Error:\")\n",
        "print(RMSE)"
      ],
      "metadata": {
        "colab": {
          "base_uri": "https://localhost:8080/"
        },
        "id": "wrZfwOoBCmVI",
        "outputId": "ffdbd5e0-c5c3-4795-d59c-0e3e8fd62e9e"
      },
      "execution_count": 24,
      "outputs": [
        {
          "output_type": "stream",
          "name": "stdout",
          "text": [
            "MAE error is -0.388054275349506\n",
            "Root Mean Square Error:\n",
            "0.6150830116912969\n"
          ]
        }
      ]
    }
  ]
}