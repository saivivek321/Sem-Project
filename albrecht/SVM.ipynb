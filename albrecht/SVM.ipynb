{
  "nbformat": 4,
  "nbformat_minor": 0,
  "metadata": {
    "colab": {
      "provenance": []
    },
    "kernelspec": {
      "name": "python3",
      "display_name": "Python 3"
    },
    "language_info": {
      "name": "python"
    }
  },
  "cells": [
    {
      "cell_type": "code",
      "execution_count": 128,
      "metadata": {
        "id": "Cjqf1H36M740"
      },
      "outputs": [],
      "source": [
        "import numpy as np\n",
        "import matplotlib.pyplot as plt\n",
        "import pandas as pd"
      ]
    },
    {
      "cell_type": "code",
      "source": [
        "data = pd.read_csv('albrecht.csv')\n",
        "del data['id']\n",
        "X=data.iloc[:,:-1] #Independent Variable\n",
        "Y=data.iloc[:,-1]   #Dependent Variable\n",
        "from sklearn.preprocessing import StandardScaler\n",
        "scaler = StandardScaler()\n",
        "X = scaler.fit_transform(X)\n",
        "Y.head(5)"
      ],
      "metadata": {
        "colab": {
          "base_uri": "https://localhost:8080/"
        },
        "id": "SbSzK-eTM_45",
        "outputId": "ee5f3df1-d62b-49ad-ff59-e9ee4310bb59"
      },
      "execution_count": 129,
      "outputs": [
        {
          "output_type": "execute_result",
          "data": {
            "text/plain": [
              "0    102.4\n",
              "1    105.2\n",
              "2     11.1\n",
              "3     21.1\n",
              "4     28.8\n",
              "Name: Effort, dtype: float64"
            ]
          },
          "metadata": {},
          "execution_count": 129
        }
      ]
    },
    {
      "cell_type": "code",
      "source": [
        "from sklearn.model_selection import train_test_split as split_data\n",
        "X_train, X_test, Y_train, Y_test = split_data(X, Y , test_size = 0.2 , shuffle=True)"
      ],
      "metadata": {
        "id": "VU4sL-z-NH7m"
      },
      "execution_count": 130,
      "outputs": []
    },
    {
      "cell_type": "code",
      "source": [
        "# import SVC classifier\n",
        "from sklearn.svm import SVR\n",
        "\n",
        "# import metrics to compute accuracy\n",
        "from sklearn.metrics import accuracy_score\n",
        "\n",
        "# instantiate classifier with default hyperparameters\n",
        "svr=SVR() \n",
        "\n",
        "# fit classifier to training set\n",
        "svr.fit(X_train,Y_train)\n"
      ],
      "metadata": {
        "colab": {
          "base_uri": "https://localhost:8080/"
        },
        "id": "TcSqpwZbNYYD",
        "outputId": "7f95792a-f789-48ab-ebed-7acaceb4759f"
      },
      "execution_count": 131,
      "outputs": [
        {
          "output_type": "execute_result",
          "data": {
            "text/plain": [
              "SVR()"
            ]
          },
          "metadata": {},
          "execution_count": 131
        }
      ]
    },
    {
      "cell_type": "code",
      "source": [
        "Y_pred=svr.predict(X_test)\n",
        "print(Y_test)\n",
        "print(\"-----------------------------\")\n",
        "print(Y_pred)"
      ],
      "metadata": {
        "colab": {
          "base_uri": "https://localhost:8080/"
        },
        "id": "MO5m6PjbNZr6",
        "outputId": "9238a115-ea03-4e1b-a2ab-10e9b625d169"
      },
      "execution_count": 132,
      "outputs": [
        {
          "output_type": "stream",
          "name": "stdout",
          "text": [
            "19     61.2\n",
            "5      10.0\n",
            "8      12.9\n",
            "23      6.1\n",
            "0     102.4\n",
            "Name: Effort, dtype: float64\n",
            "-----------------------------\n",
            "[12.27698816  9.67422347 11.94239187  8.42984899 11.49765849]\n"
          ]
        }
      ]
    },
    {
      "cell_type": "code",
      "source": [
        "# Predict and evaluate Accuracy of model\n",
        "# Y_test = np.array(Y_test)\n",
        "# type(Y_test)\n",
        "# type(Y_pred)\n",
        "\n",
        "# def mae(y_true, predictions):\n",
        "#     y_true, predictions = np.array(y_true), np.array(predictions)\n",
        "#     return np.mean(np.abs(y_true - predictions))\n",
        "\n",
        "# print(mae(Y_test, Y_pred))\n",
        "\n",
        "import math\n",
        "error = (np.subtract(Y_test,Y_pred)/np.maximum(np.absolute(Y_test),np.absolute(Y_pred))).mean()\n",
        "# error = MAE(y_test, y_pred)\n",
        "\n",
        "print(f'MAE error is {error}')\n",
        "MSE = np.square(np.subtract(Y_test,Y_pred)/np.maximum(np.absolute(Y_test),np.absolute(Y_pred))).mean() \n",
        "# print(MSE)\n",
        "RMSE = math.sqrt(MSE)\n",
        "print(\"Root mean Sqaured Error\",RMSE)\n"
      ],
      "metadata": {
        "colab": {
          "base_uri": "https://localhost:8080/"
        },
        "id": "jWzhrC4oNblL",
        "outputId": "e5abd287-de8c-4896-f7b2-4af68602bcc5"
      },
      "execution_count": 133,
      "outputs": [
        {
          "output_type": "stream",
          "name": "stdout",
          "text": [
            "MAE error is 0.303508753887061\n",
            "Root mean Sqaured Error 0.5495516670895103\n"
          ]
        }
      ]
    }
  ]
}