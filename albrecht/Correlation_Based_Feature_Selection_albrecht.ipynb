{
  "nbformat": 4,
  "nbformat_minor": 0,
  "metadata": {
    "colab": {
      "provenance": []
    },
    "kernelspec": {
      "name": "python3",
      "display_name": "Python 3"
    },
    "language_info": {
      "name": "python"
    }
  },
  "cells": [
    {
      "cell_type": "code",
      "execution_count": 106,
      "metadata": {
        "id": "V6WUnX0ihZDz"
      },
      "outputs": [],
      "source": [
        "# Import Dependencies\n",
        "import numpy as np\n",
        "import pandas as pd\n",
        "import seaborn as sns\n",
        "import matplotlib.pyplot as plt\n",
        "from sklearn.model_selection import train_test_split\n",
        "%matplotlib inline\n",
        "from sklearn.linear_model import LinearRegression\n",
        "from sklearn.model_selection import train_test_split as split_data\n",
        "import math\n"
      ]
    },
    {
      "cell_type": "code",
      "source": [
        "# Load Dataset\n",
        "df = pd.read_csv('albrecht.csv')\n",
        "df.shape"
      ],
      "metadata": {
        "colab": {
          "base_uri": "https://localhost:8080/"
        },
        "id": "YrbAFyjchpLE",
        "outputId": "8f490284-36c2-4865-bea7-526e94e74b39"
      },
      "execution_count": 107,
      "outputs": [
        {
          "output_type": "execute_result",
          "data": {
            "text/plain": [
              "(24, 9)"
            ]
          },
          "metadata": {},
          "execution_count": 107
        }
      ]
    },
    {
      "cell_type": "code",
      "source": [
        "df.head()"
      ],
      "metadata": {
        "colab": {
          "base_uri": "https://localhost:8080/",
          "height": 206
        },
        "id": "DWtY7i2XiDwh",
        "outputId": "908433a7-84ea-46e8-dcbb-0dda196a8d1a"
      },
      "execution_count": 108,
      "outputs": [
        {
          "output_type": "execute_result",
          "data": {
            "text/plain": [
              "   id  Input  Output  Inquiry  File  FPAdj  RawFPcounts  AdjFP  Effort\n",
              "0   1     25     150       75    60   1.00      1750.00   1750   102.4\n",
              "1   2    193      98       70    36   1.00      1902.00   1902   105.2\n",
              "2   3     70      27        0    12   0.80       535.00    428    11.1\n",
              "3   4     40      60       20    12   1.15       660.00    759    21.1\n",
              "4   5     10      69        1     9   0.90       478.89    431    28.8"
            ],
            "text/html": [
              "\n",
              "  <div id=\"df-ee28284d-096a-4ef4-9d4c-b0a6f9fd8fdf\">\n",
              "    <div class=\"colab-df-container\">\n",
              "      <div>\n",
              "<style scoped>\n",
              "    .dataframe tbody tr th:only-of-type {\n",
              "        vertical-align: middle;\n",
              "    }\n",
              "\n",
              "    .dataframe tbody tr th {\n",
              "        vertical-align: top;\n",
              "    }\n",
              "\n",
              "    .dataframe thead th {\n",
              "        text-align: right;\n",
              "    }\n",
              "</style>\n",
              "<table border=\"1\" class=\"dataframe\">\n",
              "  <thead>\n",
              "    <tr style=\"text-align: right;\">\n",
              "      <th></th>\n",
              "      <th>id</th>\n",
              "      <th>Input</th>\n",
              "      <th>Output</th>\n",
              "      <th>Inquiry</th>\n",
              "      <th>File</th>\n",
              "      <th>FPAdj</th>\n",
              "      <th>RawFPcounts</th>\n",
              "      <th>AdjFP</th>\n",
              "      <th>Effort</th>\n",
              "    </tr>\n",
              "  </thead>\n",
              "  <tbody>\n",
              "    <tr>\n",
              "      <th>0</th>\n",
              "      <td>1</td>\n",
              "      <td>25</td>\n",
              "      <td>150</td>\n",
              "      <td>75</td>\n",
              "      <td>60</td>\n",
              "      <td>1.00</td>\n",
              "      <td>1750.00</td>\n",
              "      <td>1750</td>\n",
              "      <td>102.4</td>\n",
              "    </tr>\n",
              "    <tr>\n",
              "      <th>1</th>\n",
              "      <td>2</td>\n",
              "      <td>193</td>\n",
              "      <td>98</td>\n",
              "      <td>70</td>\n",
              "      <td>36</td>\n",
              "      <td>1.00</td>\n",
              "      <td>1902.00</td>\n",
              "      <td>1902</td>\n",
              "      <td>105.2</td>\n",
              "    </tr>\n",
              "    <tr>\n",
              "      <th>2</th>\n",
              "      <td>3</td>\n",
              "      <td>70</td>\n",
              "      <td>27</td>\n",
              "      <td>0</td>\n",
              "      <td>12</td>\n",
              "      <td>0.80</td>\n",
              "      <td>535.00</td>\n",
              "      <td>428</td>\n",
              "      <td>11.1</td>\n",
              "    </tr>\n",
              "    <tr>\n",
              "      <th>3</th>\n",
              "      <td>4</td>\n",
              "      <td>40</td>\n",
              "      <td>60</td>\n",
              "      <td>20</td>\n",
              "      <td>12</td>\n",
              "      <td>1.15</td>\n",
              "      <td>660.00</td>\n",
              "      <td>759</td>\n",
              "      <td>21.1</td>\n",
              "    </tr>\n",
              "    <tr>\n",
              "      <th>4</th>\n",
              "      <td>5</td>\n",
              "      <td>10</td>\n",
              "      <td>69</td>\n",
              "      <td>1</td>\n",
              "      <td>9</td>\n",
              "      <td>0.90</td>\n",
              "      <td>478.89</td>\n",
              "      <td>431</td>\n",
              "      <td>28.8</td>\n",
              "    </tr>\n",
              "  </tbody>\n",
              "</table>\n",
              "</div>\n",
              "      <button class=\"colab-df-convert\" onclick=\"convertToInteractive('df-ee28284d-096a-4ef4-9d4c-b0a6f9fd8fdf')\"\n",
              "              title=\"Convert this dataframe to an interactive table.\"\n",
              "              style=\"display:none;\">\n",
              "        \n",
              "  <svg xmlns=\"http://www.w3.org/2000/svg\" height=\"24px\"viewBox=\"0 0 24 24\"\n",
              "       width=\"24px\">\n",
              "    <path d=\"M0 0h24v24H0V0z\" fill=\"none\"/>\n",
              "    <path d=\"M18.56 5.44l.94 2.06.94-2.06 2.06-.94-2.06-.94-.94-2.06-.94 2.06-2.06.94zm-11 1L8.5 8.5l.94-2.06 2.06-.94-2.06-.94L8.5 2.5l-.94 2.06-2.06.94zm10 10l.94 2.06.94-2.06 2.06-.94-2.06-.94-.94-2.06-.94 2.06-2.06.94z\"/><path d=\"M17.41 7.96l-1.37-1.37c-.4-.4-.92-.59-1.43-.59-.52 0-1.04.2-1.43.59L10.3 9.45l-7.72 7.72c-.78.78-.78 2.05 0 2.83L4 21.41c.39.39.9.59 1.41.59.51 0 1.02-.2 1.41-.59l7.78-7.78 2.81-2.81c.8-.78.8-2.07 0-2.86zM5.41 20L4 18.59l7.72-7.72 1.47 1.35L5.41 20z\"/>\n",
              "  </svg>\n",
              "      </button>\n",
              "      \n",
              "  <style>\n",
              "    .colab-df-container {\n",
              "      display:flex;\n",
              "      flex-wrap:wrap;\n",
              "      gap: 12px;\n",
              "    }\n",
              "\n",
              "    .colab-df-convert {\n",
              "      background-color: #E8F0FE;\n",
              "      border: none;\n",
              "      border-radius: 50%;\n",
              "      cursor: pointer;\n",
              "      display: none;\n",
              "      fill: #1967D2;\n",
              "      height: 32px;\n",
              "      padding: 0 0 0 0;\n",
              "      width: 32px;\n",
              "    }\n",
              "\n",
              "    .colab-df-convert:hover {\n",
              "      background-color: #E2EBFA;\n",
              "      box-shadow: 0px 1px 2px rgba(60, 64, 67, 0.3), 0px 1px 3px 1px rgba(60, 64, 67, 0.15);\n",
              "      fill: #174EA6;\n",
              "    }\n",
              "\n",
              "    [theme=dark] .colab-df-convert {\n",
              "      background-color: #3B4455;\n",
              "      fill: #D2E3FC;\n",
              "    }\n",
              "\n",
              "    [theme=dark] .colab-df-convert:hover {\n",
              "      background-color: #434B5C;\n",
              "      box-shadow: 0px 1px 3px 1px rgba(0, 0, 0, 0.15);\n",
              "      filter: drop-shadow(0px 1px 2px rgba(0, 0, 0, 0.3));\n",
              "      fill: #FFFFFF;\n",
              "    }\n",
              "  </style>\n",
              "\n",
              "      <script>\n",
              "        const buttonEl =\n",
              "          document.querySelector('#df-ee28284d-096a-4ef4-9d4c-b0a6f9fd8fdf button.colab-df-convert');\n",
              "        buttonEl.style.display =\n",
              "          google.colab.kernel.accessAllowed ? 'block' : 'none';\n",
              "\n",
              "        async function convertToInteractive(key) {\n",
              "          const element = document.querySelector('#df-ee28284d-096a-4ef4-9d4c-b0a6f9fd8fdf');\n",
              "          const dataTable =\n",
              "            await google.colab.kernel.invokeFunction('convertToInteractive',\n",
              "                                                     [key], {});\n",
              "          if (!dataTable) return;\n",
              "\n",
              "          const docLinkHtml = 'Like what you see? Visit the ' +\n",
              "            '<a target=\"_blank\" href=https://colab.research.google.com/notebooks/data_table.ipynb>data table notebook</a>'\n",
              "            + ' to learn more about interactive tables.';\n",
              "          element.innerHTML = '';\n",
              "          dataTable['output_type'] = 'display_data';\n",
              "          await google.colab.output.renderOutput(dataTable, element);\n",
              "          const docLink = document.createElement('div');\n",
              "          docLink.innerHTML = docLinkHtml;\n",
              "          element.appendChild(docLink);\n",
              "        }\n",
              "      </script>\n",
              "    </div>\n",
              "  </div>\n",
              "  "
            ]
          },
          "metadata": {},
          "execution_count": 108
        }
      ]
    },
    {
      "cell_type": "code",
      "source": [
        "data=df.drop(['id'],axis=1)\n",
        "data.shape"
      ],
      "metadata": {
        "colab": {
          "base_uri": "https://localhost:8080/"
        },
        "id": "p2Ddx9aJiieQ",
        "outputId": "dae9e52d-2ee9-4f34-981a-23a65d287322"
      },
      "execution_count": 109,
      "outputs": [
        {
          "output_type": "execute_result",
          "data": {
            "text/plain": [
              "(24, 8)"
            ]
          },
          "metadata": {},
          "execution_count": 109
        }
      ]
    },
    {
      "cell_type": "code",
      "source": [
        "X=data.drop(['Effort'],axis=1)\n",
        "y=data['Effort']\n",
        "print(X)\n",
        "print(y)"
      ],
      "metadata": {
        "colab": {
          "base_uri": "https://localhost:8080/"
        },
        "id": "vFGU4swHi1u7",
        "outputId": "4e468f84-9646-4450-c8a1-debd9aa5fb70"
      },
      "execution_count": 110,
      "outputs": [
        {
          "output_type": "stream",
          "name": "stdout",
          "text": [
            "    Input  Output  Inquiry  File  FPAdj  RawFPcounts  AdjFP\n",
            "0      25     150       75    60   1.00      1750.00   1750\n",
            "1     193      98       70    36   1.00      1902.00   1902\n",
            "2      70      27        0    12   0.80       535.00    428\n",
            "3      40      60       20    12   1.15       660.00    759\n",
            "4      10      69        1     9   0.90       478.89    431\n",
            "5      13      19        0    23   0.75       377.33    283\n",
            "6      34      14        0     5   0.80       256.25    205\n",
            "7      17      17       15     5   1.10       262.73    289\n",
            "8      45      64       14    16   0.95       715.79    680\n",
            "9      40      60       20    15   1.15       690.43    794\n",
            "10     41      27       29     5   1.10       465.45    512\n",
            "11     33      17        8     5   0.75       298.67    224\n",
            "12     28      41       16    11   0.85       490.59    417\n",
            "13     43      40       20    35   0.85       802.35    682\n",
            "14      7      12       13     8   0.95       220.00    209\n",
            "15     28      38       24     9   1.05       487.62    512\n",
            "16     42      57       12     5   1.10       550.91    606\n",
            "17     27      20       24     6   1.10       363.64    400\n",
            "18     48      66       13    50   1.15      1073.91   1235\n",
            "19     69     112       21    39   1.20      1310.00   1572\n",
            "20     25      28        4    22   1.05       476.19    500\n",
            "21     61      68        0    11   1.00       694.00    694\n",
            "22     15      15        6     3   1.05       189.52    199\n",
            "23     12      15        0    15   0.95       273.68    260\n",
            "0     102.4\n",
            "1     105.2\n",
            "2      11.1\n",
            "3      21.1\n",
            "4      28.8\n",
            "5      10.0\n",
            "6       8.0\n",
            "7       4.9\n",
            "8      12.9\n",
            "9      19.0\n",
            "10     10.8\n",
            "11      2.9\n",
            "12      7.5\n",
            "13     12.0\n",
            "14      4.1\n",
            "15     15.8\n",
            "16     18.3\n",
            "17      8.9\n",
            "18     38.1\n",
            "19     61.2\n",
            "20      3.6\n",
            "21     11.8\n",
            "22      0.5\n",
            "23      6.1\n",
            "Name: Effort, dtype: float64\n"
          ]
        }
      ]
    },
    {
      "cell_type": "code",
      "source": [
        "# Train Test Split\n",
        "X_train, X_test, y_train, y_test = train_test_split(X, y, test_size=0.3, random_state=101)\n",
        "X_train.shape, y_train.shape, X_test.shape, y_test.shape"
      ],
      "metadata": {
        "colab": {
          "base_uri": "https://localhost:8080/"
        },
        "id": "uVGTT4Qvjhi3",
        "outputId": "2d3c7505-a2f0-4fa4-bc22-afc935f0a7e1"
      },
      "execution_count": 111,
      "outputs": [
        {
          "output_type": "execute_result",
          "data": {
            "text/plain": [
              "((16, 7), (16,), (8, 7), (8,))"
            ]
          },
          "metadata": {},
          "execution_count": 111
        }
      ]
    },
    {
      "cell_type": "code",
      "source": [
        "# Visualize Correlated Features\n",
        "# corr = X_train.corr()\n",
        "corr=data.corr()\n",
        "fig, ax = plt.subplots()\n",
        "fig.set_size_inches(11,11)\n",
        "sns.heatmap(corr)"
      ],
      "metadata": {
        "colab": {
          "base_uri": "https://localhost:8080/",
          "height": 667
        },
        "id": "teVgaQ-ojs6m",
        "outputId": "27a34482-215c-48e6-e16d-b388e688bf7e"
      },
      "execution_count": 112,
      "outputs": [
        {
          "output_type": "execute_result",
          "data": {
            "text/plain": [
              "<AxesSubplot:>"
            ]
          },
          "metadata": {},
          "execution_count": 112
        },
        {
          "output_type": "display_data",
          "data": {
            "text/plain": [
              "<Figure size 792x792 with 2 Axes>"
            ],
            "image/png": "[encoded data removed]"
          },
          "metadata": {
            "needs_background": "light"
          }
        }
      ]
    },
    {
      "cell_type": "markdown",
      "source": [
        "## Brute Force Method to find Correlated Features"
      ],
      "metadata": {
        "id": "_nuS5qkEj1_N"
      }
    },
    {
      "cell_type": "code",
      "source": [
        "from pandas.core.indexes.multi import names_compat\n",
        "# Brute Force Method to find Correlation between features\n",
        "def correlation(data, threshold=None):\n",
        "    # Set of all names of correlated columns\n",
        "    col_corr = set()\n",
        "    corr_mat = data.corr()\n",
        "    # for i in range(len(corr_mat.columns)):\n",
        "    #     for j in range(i):\n",
        "    #         if (abs(corr_mat.iloc[i,j]) > threshold):\n",
        "    #             colname = corr_mat.columns[i]\n",
        "    #             col_corr.add(colname)\n",
        "    n=len(corr_mat.columns)\n",
        "    # print(corr_mat)\n",
        "    corr_features=set()\n",
        "    features=[]\n",
        "    for i in range(n-1):\n",
        "        if(abs(corr_mat.iloc[i,n-1])>threshold):\n",
        "            colname = corr_mat.columns[i]\n",
        "            corr_features.add(colname)\n",
        "            features.append(i)\n",
        "    return corr_features,features"
      ],
      "metadata": {
        "id": "SWvyw8Lqj1RG"
      },
      "execution_count": 113,
      "outputs": []
    },
    {
      "cell_type": "code",
      "source": [
        "correlated_features,features = correlation(data=data, threshold=0.1)\n",
        "print(len(set(correlated_features)))\n",
        "print(correlated_features)\n",
        "print(features)"
      ],
      "metadata": {
        "colab": {
          "base_uri": "https://localhost:8080/"
        },
        "id": "zotDkhEJkJfA",
        "outputId": "d1b2fa20-0932-4b41-af0a-a3757904d53a"
      },
      "execution_count": 114,
      "outputs": [
        {
          "output_type": "stream",
          "name": "stdout",
          "text": [
            "7\n",
            "{'FPAdj', 'Output', 'Input', 'File', 'Inquiry', 'RawFPcounts', 'AdjFP'}\n",
            "[0, 1, 2, 3, 4, 5, 6]\n"
          ]
        }
      ]
    },
    {
      "cell_type": "code",
      "source": [
        "x_data=X.iloc[:, features].values\n",
        "y_data=y\n",
        "\n",
        "# Linear Regression \n",
        "x_train, x_test, y_train, y_test = split_data( x_data, y_data, test_size = 1/4, shuffle=True) \n",
        "regressor = LinearRegression()\n",
        "regressor = regressor.fit(x_train, y_train)\n",
        "y_pred = regressor.predict(x_test)\n",
        "\n",
        "# Root Mean Sqaured Error\n",
        "MSE = np.square(np.subtract(y_test,y_pred)/np.maximum(np.absolute(y_test),np.absolute(y_pred))).mean() \n",
        "RMSE = math.sqrt(MSE)\n",
        "print(\"Root Mean Squared Error :\",RMSE)\n",
        "\n",
        "# Mean Absolute Error\n",
        "from sklearn.metrics import mean_absolute_error as MAE\n",
        "error = (np.subtract(y_test,y_pred)/np.maximum(np.absolute(y_test),np.absolute(y_pred))).mean()\n",
        "print(f'MAE error is {error}')"
      ],
      "metadata": {
        "id": "aWpcgljwk8z_",
        "colab": {
          "base_uri": "https://localhost:8080/"
        },
        "outputId": "b7e8d3e0-ecbf-4867-f427-d13217b03b33"
      },
      "execution_count": 115,
      "outputs": [
        {
          "output_type": "stream",
          "name": "stdout",
          "text": [
            "Root Mean Squared Error : 0.5127811384915211\n",
            "MAE error is 0.1863427459591541\n"
          ]
        }
      ]
    },
    {
      "cell_type": "code",
      "source": [
        "# SVM\n",
        "from sklearn.model_selection import train_test_split as split_data\n",
        "X_train, X_test, Y_train, Y_test = split_data(x_data, y_data , test_size = 0.2 , shuffle=True)\n",
        "\n",
        "from sklearn.svm import SVR\n",
        "from sklearn.metrics import accuracy_score\n",
        "svr=SVR() \n",
        "svr.fit(X_train,Y_train)\n",
        "Y_pred=svr.predict(X_test)\n",
        "\n",
        "#Root Mean Squared Error\n",
        "MSE = np.square(np.subtract(Y_test,Y_pred)/np.maximum(np.absolute(Y_test),np.absolute(Y_pred))).mean() \n",
        "RMSE = math.sqrt(MSE)\n",
        "print(\"Root Mean Square Error:\\n\")\n",
        "print(RMSE)\n",
        "\n",
        "# Mean Absolute Error\n",
        "from sklearn.metrics import mean_absolute_error as MAE\n",
        "error = (np.subtract(Y_test,Y_pred)/np.maximum(np.absolute(Y_test),np.absolute(Y_pred))).mean()\n",
        "print(f'MAE error is {error}')"
      ],
      "metadata": {
        "colab": {
          "base_uri": "https://localhost:8080/"
        },
        "id": "Rw--NdEPCiPy",
        "outputId": "1a14a5f8-6849-4a20-cc26-48bf8f93de89"
      },
      "execution_count": 116,
      "outputs": [
        {
          "output_type": "stream",
          "name": "stdout",
          "text": [
            "Root Mean Square Error:\n",
            "\n",
            "0.4878459101598791\n",
            "MAE error is 0.38348577950176194\n"
          ]
        }
      ]
    },
    {
      "cell_type": "code",
      "source": [
        "# Random Forest\n",
        "from sklearn.model_selection import train_test_split as split_data\n",
        "x_train, x_test, y_train, y_test = split_data(x_data, y_data, test_size=0.20, shuffle=True)\n",
        "\n",
        "from sklearn.tree import DecisionTreeRegressor\n",
        "from sklearn.ensemble import RandomForestRegressor\n",
        "treeModel = DecisionTreeRegressor(max_depth=5, random_state=None)\n",
        "treeModel.fit(x_train, y_train)\n",
        "model = RandomForestRegressor(max_depth=5, random_state=None,max_features='auto',max_leaf_nodes=5,n_estimators=50, criterion=\"absolute_error\")\n",
        "model.fit(x_train, y_train)\n",
        "y_pred = model.predict(x_test)\n",
        "\n",
        "# Mean Absolute Error\n",
        "from sklearn.metrics import mean_absolute_error as MAE\n",
        "error = (np.subtract(y_test,y_pred)/np.maximum(np.absolute(y_test),np.absolute(y_pred))).mean()\n",
        "print(f'MAE error is {error}')\n",
        "\n",
        "# Root Mean Squared Error\n",
        "MSE = np.square(np.subtract(y_test,y_pred)/np.maximum(np.absolute(y_test),np.absolute(y_pred))).mean() \n",
        "RMSE = math.sqrt(MSE)\n",
        "print(\"Root Mean Square Error:\")\n",
        "print(RMSE)"
      ],
      "metadata": {
        "colab": {
          "base_uri": "https://localhost:8080/"
        },
        "id": "wrZfwOoBCmVI",
        "outputId": "e7b6c9bf-0013-4aa2-cee6-03f8ed581bae"
      },
      "execution_count": 120,
      "outputs": [
        {
          "output_type": "stream",
          "name": "stdout",
          "text": [
            "MAE error is -0.23716834038696682\n",
            "Root Mean Square Error:\n",
            "0.37061193499291123\n"
          ]
        }
      ]
    }
  ]
}